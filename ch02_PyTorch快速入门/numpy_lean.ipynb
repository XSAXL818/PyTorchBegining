{
 "cells": [
  {
   "cell_type": "code",
   "execution_count": 3,
   "id": "initial_id",
   "metadata": {
    "ExecuteTime": {
     "end_time": "2024-10-28T12:43:29.865970Z",
     "start_time": "2024-10-28T12:43:29.862243Z"
    },
    "collapsed": true,
    "jupyter": {
     "outputs_hidden": true
    }
   },
   "outputs": [],
   "source": [
    "import numpy as np\n",
    "\n",
    "# numpy的性能优势对比\n",
    "# python原生实现\n",
    "def sum(n:int):\n",
    "    a = [i**2 for i in range(n)]\n",
    "    b = [i**2 for i in range(n)]\n",
    "    c = []\n",
    "    for i,j in zip(a,b):\n",
    "        c.append(i+j)\n",
    "    return c\n",
    "\n",
    "\n",
    "# numpy 实现\n",
    "def sum_np(n:int):\n",
    "    a = np.arange(n) ** 2\n",
    "    b = np.arange(n) ** 2\n",
    "    return a + b\n"
   ]
  },
  {
   "cell_type": "code",
   "execution_count": 11,
   "id": "ed8b9acd3beff053",
   "metadata": {
    "ExecuteTime": {
     "end_time": "2024-10-28T12:46:51.559488Z",
     "start_time": "2024-10-28T12:46:40.908956Z"
    }
   },
   "outputs": [
    {
     "name": "stdout",
     "output_type": "stream",
     "text": [
      "131 μs ± 2.29 μs per loop (mean ± std. dev. of 7 runs, 10,000 loops each)\n"
     ]
    }
   ],
   "source": [
    "%timeit sum(1000)"
   ]
  },
  {
   "cell_type": "code",
   "execution_count": 13,
   "id": "31498c0242d71518",
   "metadata": {
    "ExecuteTime": {
     "end_time": "2024-10-28T12:46:57.856211Z",
     "start_time": "2024-10-28T12:46:54.788808Z"
    }
   },
   "outputs": [
    {
     "name": "stdout",
     "output_type": "stream",
     "text": [
      "3.79 μs ± 36.6 ns per loop (mean ± std. dev. of 7 runs, 100,000 loops each)\n"
     ]
    }
   ],
   "source": [
    "%timeit sum_np(1000)"
   ]
  },
  {
   "cell_type": "code",
   "execution_count": 19,
   "id": "fcb1b6a22fa0ec7e",
   "metadata": {
    "ExecuteTime": {
     "end_time": "2024-10-28T13:10:52.822112Z",
     "start_time": "2024-10-28T13:10:52.819088Z"
    }
   },
   "outputs": [],
   "source": [
    "# 通过python原生的list来创建\n",
    "l1 = [ 1, 2, 3, 4 ]\n",
    "l2 = [\n",
    "    [ 2, 3, 4, 5 ],\n",
    "    [ 3, 4, 5, 6]\n",
    "]\n",
    "\n",
    "arr1 = np.array(l1)\n",
    "arr2 = np.array(l2)\n"
   ]
  },
  {
   "cell_type": "code",
   "execution_count": 20,
   "id": "81f0e8018ee6b8a1",
   "metadata": {
    "ExecuteTime": {
     "end_time": "2024-10-28T13:10:54.969432Z",
     "start_time": "2024-10-28T13:10:54.966471Z"
    }
   },
   "outputs": [
    {
     "data": {
      "text/plain": [
       "array([1, 2, 3, 4])"
      ]
     },
     "execution_count": 20,
     "metadata": {},
     "output_type": "execute_result"
    }
   ],
   "source": [
    "arr1"
   ]
  },
  {
   "cell_type": "code",
   "execution_count": 21,
   "id": "5fdf6f7d387d457c",
   "metadata": {
    "ExecuteTime": {
     "end_time": "2024-10-28T13:10:56.418373Z",
     "start_time": "2024-10-28T13:10:56.415411Z"
    }
   },
   "outputs": [
    {
     "data": {
      "text/plain": [
       "array([[2, 3, 4, 5],\n",
       "       [3, 4, 5, 6]])"
      ]
     },
     "execution_count": 21,
     "metadata": {},
     "output_type": "execute_result"
    }
   ],
   "source": [
    "arr2"
   ]
  },
  {
   "cell_type": "markdown",
   "id": "439ee27b6cf0201a",
   "metadata": {},
   "source": [
    "\n",
    "调用array的属性\n"
   ]
  },
  {
   "cell_type": "code",
   "execution_count": 32,
   "id": "34695c19f31d01c4",
   "metadata": {
    "ExecuteTime": {
     "end_time": "2024-10-28T13:19:50.102635Z",
     "start_time": "2024-10-28T13:19:50.099636Z"
    }
   },
   "outputs": [
    {
     "data": {
      "text/plain": [
       "(4,)"
      ]
     },
     "execution_count": 32,
     "metadata": {},
     "output_type": "execute_result"
    }
   ],
   "source": [
    "# 调用array的属性\n",
    "arr1.shape"
   ]
  },
  {
   "cell_type": "code",
   "execution_count": 25,
   "id": "dcff83ff16413bf3",
   "metadata": {
    "ExecuteTime": {
     "end_time": "2024-10-28T13:12:44.769983Z",
     "start_time": "2024-10-28T13:12:44.766574Z"
    }
   },
   "outputs": [
    {
     "data": {
      "text/plain": [
       "(2, 4)"
      ]
     },
     "execution_count": 25,
     "metadata": {},
     "output_type": "execute_result"
    }
   ],
   "source": [
    "arr2.shape"
   ]
  },
  {
   "cell_type": "code",
   "execution_count": 26,
   "id": "cb64649883b3879d",
   "metadata": {
    "ExecuteTime": {
     "end_time": "2024-10-28T13:13:44.568218Z",
     "start_time": "2024-10-28T13:13:44.565351Z"
    }
   },
   "outputs": [
    {
     "data": {
      "text/plain": [
       "1"
      ]
     },
     "execution_count": 26,
     "metadata": {},
     "output_type": "execute_result"
    }
   ],
   "source": [
    "arr1.ndim"
   ]
  },
  {
   "cell_type": "code",
   "execution_count": 27,
   "id": "4f7794e26b91b092",
   "metadata": {
    "ExecuteTime": {
     "end_time": "2024-10-28T13:13:45.978749Z",
     "start_time": "2024-10-28T13:13:45.976219Z"
    }
   },
   "outputs": [
    {
     "data": {
      "text/plain": [
       "2"
      ]
     },
     "execution_count": 27,
     "metadata": {},
     "output_type": "execute_result"
    }
   ],
   "source": [
    "arr2.ndim"
   ]
  },
  {
   "cell_type": "code",
   "execution_count": 28,
   "id": "884ddcab0b35dcba",
   "metadata": {
    "ExecuteTime": {
     "end_time": "2024-10-28T13:13:47.269849Z",
     "start_time": "2024-10-28T13:13:47.266759Z"
    }
   },
   "outputs": [
    {
     "data": {
      "text/plain": [
       "4"
      ]
     },
     "execution_count": 28,
     "metadata": {},
     "output_type": "execute_result"
    }
   ],
   "source": [
    "arr1.size"
   ]
  },
  {
   "cell_type": "code",
   "execution_count": 29,
   "id": "fd8a3850aec371ea",
   "metadata": {
    "ExecuteTime": {
     "end_time": "2024-10-28T13:13:48.578016Z",
     "start_time": "2024-10-28T13:13:48.575403Z"
    }
   },
   "outputs": [
    {
     "data": {
      "text/plain": [
       "8"
      ]
     },
     "execution_count": 29,
     "metadata": {},
     "output_type": "execute_result"
    }
   ],
   "source": [
    "arr2.size"
   ]
  },
  {
   "cell_type": "code",
   "execution_count": 30,
   "id": "18e1de7cda1d323a",
   "metadata": {
    "ExecuteTime": {
     "end_time": "2024-10-28T13:13:49.771219Z",
     "start_time": "2024-10-28T13:13:49.767709Z"
    }
   },
   "outputs": [
    {
     "data": {
      "text/plain": [
       "dtype('int64')"
      ]
     },
     "execution_count": 30,
     "metadata": {},
     "output_type": "execute_result"
    }
   ],
   "source": [
    "arr1.dtype"
   ]
  },
  {
   "cell_type": "code",
   "execution_count": 31,
   "id": "6ff4b7aba7d6e40d",
   "metadata": {
    "ExecuteTime": {
     "end_time": "2024-10-28T13:13:50.994554Z",
     "start_time": "2024-10-28T13:13:50.990767Z"
    }
   },
   "outputs": [
    {
     "data": {
      "text/plain": [
       "dtype('int64')"
      ]
     },
     "execution_count": 31,
     "metadata": {},
     "output_type": "execute_result"
    }
   ],
   "source": [
    "arr2.dtype"
   ]
  },
  {
   "cell_type": "code",
   "execution_count": 36,
   "id": "486d3df14ca47eda",
   "metadata": {
    "ExecuteTime": {
     "end_time": "2024-10-28T13:22:06.328820Z",
     "start_time": "2024-10-28T13:22:06.324746Z"
    }
   },
   "outputs": [
    {
     "name": "stdout",
     "output_type": "stream",
     "text": [
      "Help on built-in function arange in module numpy:\n",
      "\n",
      "arange(...)\n",
      "    arange([start,] stop[, step,], dtype=None, *, device=None, like=None)\n",
      "\n",
      "    Return evenly spaced values within a given interval.\n",
      "\n",
      "    ``arange`` can be called with a varying number of positional arguments:\n",
      "\n",
      "    * ``arange(stop)``: Values are generated within the half-open interval\n",
      "      ``[0, stop)`` (in other words, the interval including `start` but\n",
      "      excluding `stop`).\n",
      "    * ``arange(start, stop)``: Values are generated within the half-open\n",
      "      interval ``[start, stop)``.\n",
      "    * ``arange(start, stop, step)`` Values are generated within the half-open\n",
      "      interval ``[start, stop)``, with spacing between values given by\n",
      "      ``step``.\n",
      "\n",
      "    For integer arguments the function is roughly equivalent to the Python\n",
      "    built-in :py:class:`range`, but returns an ndarray rather than a ``range``\n",
      "    instance.\n",
      "\n",
      "    When using a non-integer step, such as 0.1, it is often better to use\n",
      "    `numpy.linspace`.\n",
      "\n",
      "    See the Warning sections below for more information.\n",
      "\n",
      "    Parameters\n",
      "    ----------\n",
      "    start : integer or real, optional\n",
      "        Start of interval.  The interval includes this value.  The default\n",
      "        start value is 0.\n",
      "    stop : integer or real\n",
      "        End of interval.  The interval does not include this value, except\n",
      "        in some cases where `step` is not an integer and floating point\n",
      "        round-off affects the length of `out`.\n",
      "    step : integer or real, optional\n",
      "        Spacing between values.  For any output `out`, this is the distance\n",
      "        between two adjacent values, ``out[i+1] - out[i]``.  The default\n",
      "        step size is 1.  If `step` is specified as a position argument,\n",
      "        `start` must also be given.\n",
      "    dtype : dtype, optional\n",
      "        The type of the output array.  If `dtype` is not given, infer the data\n",
      "        type from the other input arguments.\n",
      "    device : str, optional\n",
      "        The device on which to place the created array. Default: None.\n",
      "        For Array-API interoperability only, so must be ``\"cpu\"`` if passed.\n",
      "\n",
      "        .. versionadded:: 2.0.0\n",
      "    like : array_like, optional\n",
      "        Reference object to allow the creation of arrays which are not\n",
      "        NumPy arrays. If an array-like passed in as ``like`` supports\n",
      "        the ``__array_function__`` protocol, the result will be defined\n",
      "        by it. In this case, it ensures the creation of an array object\n",
      "        compatible with that passed in via this argument.\n",
      "\n",
      "        .. versionadded:: 1.20.0\n",
      "\n",
      "    Returns\n",
      "    -------\n",
      "    arange : ndarray\n",
      "        Array of evenly spaced values.\n",
      "\n",
      "        For floating point arguments, the length of the result is\n",
      "        ``ceil((stop - start)/step)``.  Because of floating point overflow,\n",
      "        this rule may result in the last element of `out` being greater\n",
      "        than `stop`.\n",
      "\n",
      "    Warnings\n",
      "    --------\n",
      "    The length of the output might not be numerically stable.\n",
      "\n",
      "    Another stability issue is due to the internal implementation of\n",
      "    `numpy.arange`.\n",
      "    The actual step value used to populate the array is\n",
      "    ``dtype(start + step) - dtype(start)`` and not `step`. Precision loss\n",
      "    can occur here, due to casting or due to using floating points when\n",
      "    `start` is much larger than `step`. This can lead to unexpected\n",
      "    behaviour. For example::\n",
      "\n",
      "      >>> np.arange(0, 5, 0.5, dtype=int)\n",
      "      array([0, 0, 0, 0, 0, 0, 0, 0, 0, 0])\n",
      "      >>> np.arange(-3, 3, 0.5, dtype=int)\n",
      "      array([-3, -2, -1,  0,  1,  2,  3,  4,  5,  6,  7,  8])\n",
      "\n",
      "    In such cases, the use of `numpy.linspace` should be preferred.\n",
      "\n",
      "    The built-in :py:class:`range` generates :std:doc:`Python built-in integers\n",
      "    that have arbitrary size <python:c-api/long>`, while `numpy.arange`\n",
      "    produces `numpy.int32` or `numpy.int64` numbers. This may result in\n",
      "    incorrect results for large integer values::\n",
      "\n",
      "      >>> power = 40\n",
      "      >>> modulo = 10000\n",
      "      >>> x1 = [(n ** power) % modulo for n in range(8)]\n",
      "      >>> x2 = [(n ** power) % modulo for n in np.arange(8)]\n",
      "      >>> print(x1)\n",
      "      [0, 1, 7776, 8801, 6176, 625, 6576, 4001]  # correct\n",
      "      >>> print(x2)\n",
      "      [0, 1, 7776, 7185, 0, 5969, 4816, 3361]  # incorrect\n",
      "\n",
      "    See Also\n",
      "    --------\n",
      "    numpy.linspace : Evenly spaced numbers with careful handling of endpoints.\n",
      "    numpy.ogrid: Arrays of evenly spaced numbers in N-dimensions.\n",
      "    numpy.mgrid: Grid-shaped arrays of evenly spaced numbers in N-dimensions.\n",
      "    :ref:`how-to-partition`\n",
      "\n",
      "    Examples\n",
      "    --------\n",
      "    >>> np.arange(3)\n",
      "    array([0, 1, 2])\n",
      "    >>> np.arange(3.0)\n",
      "    array([ 0.,  1.,  2.])\n",
      "    >>> np.arange(3,7)\n",
      "    array([3, 4, 5, 6])\n",
      "    >>> np.arange(3,7,2)\n",
      "    array([3, 5])\n",
      "\n"
     ]
    }
   ],
   "source": [
    "# 查看arange函数\n",
    "# 推荐使用第一种，第二种占下方显示的空间...\n",
    "np.arange?\n",
    "help(np.arange)\n",
    "# arange([start,] stop[, step,], dtype=None, *, device=None, like=None)"
   ]
  },
  {
   "cell_type": "code",
   "execution_count": 37,
   "id": "c1226c34c3f5ddb5",
   "metadata": {
    "ExecuteTime": {
     "end_time": "2024-10-28T13:29:29.941848Z",
     "start_time": "2024-10-28T13:29:29.938339Z"
    }
   },
   "outputs": [
    {
     "data": {
      "text/plain": [
       "array([0, 1, 2, 3, 4, 5, 6, 7, 8, 9])"
      ]
     },
     "execution_count": 37,
     "metadata": {},
     "output_type": "execute_result"
    }
   ],
   "source": [
    "# 获取一维向量\n",
    "np.arange(10)"
   ]
  },
  {
   "cell_type": "code",
   "execution_count": 38,
   "id": "30c87025a9b17596",
   "metadata": {
    "ExecuteTime": {
     "end_time": "2024-10-28T13:29:43.412524Z",
     "start_time": "2024-10-28T13:29:43.408513Z"
    }
   },
   "outputs": [
    {
     "data": {
      "text/plain": [
       "array([0, 2, 4, 6, 8])"
      ]
     },
     "execution_count": 38,
     "metadata": {},
     "output_type": "execute_result"
    }
   ],
   "source": [
    "np.arange(0,10,2)"
   ]
  },
  {
   "cell_type": "code",
   "execution_count": 39,
   "id": "54993ad78f010586",
   "metadata": {
    "ExecuteTime": {
     "end_time": "2024-10-28T13:30:38.743334Z",
     "start_time": "2024-10-28T13:30:38.714854Z"
    }
   },
   "outputs": [],
   "source": [
    "np.ones?\n",
    "# np.ones(shape, dtype=None, order='C', *, device=None, like=None)\n",
    "# shape: 提供一个数字n，返回n个1的一维向量。提供一个二元组(2,3),返回2行3列的1"
   ]
  },
  {
   "cell_type": "code",
   "execution_count": 40,
   "id": "96950fab4df353a7",
   "metadata": {
    "ExecuteTime": {
     "end_time": "2024-10-28T13:31:17.442125Z",
     "start_time": "2024-10-28T13:31:17.438925Z"
    }
   },
   "outputs": [
    {
     "data": {
      "text/plain": [
       "array([1., 1., 1., 1., 1., 1., 1., 1., 1., 1.])"
      ]
     },
     "execution_count": 40,
     "metadata": {},
     "output_type": "execute_result"
    }
   ],
   "source": [
    "np.ones(10)"
   ]
  },
  {
   "cell_type": "code",
   "execution_count": 41,
   "id": "4bf2cca56d3d62d0",
   "metadata": {
    "ExecuteTime": {
     "end_time": "2024-10-28T13:33:01.281979Z",
     "start_time": "2024-10-28T13:33:01.277527Z"
    }
   },
   "outputs": [
    {
     "data": {
      "text/plain": [
       "array([[1., 1., 1.],\n",
       "       [1., 1., 1.]])"
      ]
     },
     "execution_count": 41,
     "metadata": {},
     "output_type": "execute_result"
    }
   ],
   "source": [
    "np.ones( (2,3) )"
   ]
  },
  {
   "cell_type": "code",
   "execution_count": 1,
   "id": "63bbd4c28eecf232",
   "metadata": {
    "ExecuteTime": {
     "end_time": "2024-10-30T23:50:00.037650Z",
     "start_time": "2024-10-30T23:50:00.031652Z"
    }
   },
   "outputs": [
    {
     "name": "stdout",
     "output_type": "stream",
     "text": [
      "Object `np.ones_like` not found.\n"
     ]
    }
   ],
   "source": [
    "np.ones_like?\n",
    "# np.ones_like(\n",
    "#     a,         这个是模板\n",
    "#     dtype=None,\n",
    "#     order='K',\n",
    "#     subok=True,\n",
    "#     shape=None,\n",
    "#     *,\n",
    "#     device=None,\n",
    "# )"
   ]
  },
  {
   "cell_type": "code",
   "execution_count": 17,
   "id": "1ae6e6a5088b0a0e",
   "metadata": {
    "ExecuteTime": {
     "end_time": "2024-10-30T13:16:40.854445Z",
     "start_time": "2024-10-30T13:16:40.851911Z"
    }
   },
   "outputs": [],
   "source": [
    "x1 = [1,3,4,5,6]\n",
    "x2 = [\n",
    "    [1, 2, 3, 4, 5],\n",
    "    [3, 4, 5, 6, 7]\n",
    "]"
   ]
  },
  {
   "cell_type": "code",
   "execution_count": 45,
   "id": "ef540b0f2f95f3e5",
   "metadata": {
    "ExecuteTime": {
     "end_time": "2024-10-28T13:35:30.414092Z",
     "start_time": "2024-10-28T13:35:30.410338Z"
    }
   },
   "outputs": [
    {
     "data": {
      "text/plain": [
       "array([1, 1, 1, 1, 1])"
      ]
     },
     "execution_count": 45,
     "metadata": {},
     "output_type": "execute_result"
    }
   ],
   "source": [
    "np.ones_like(x1)"
   ]
  },
  {
   "cell_type": "code",
   "execution_count": 46,
   "id": "9fb23893c79ec22e",
   "metadata": {
    "ExecuteTime": {
     "end_time": "2024-10-28T13:35:35.611365Z",
     "start_time": "2024-10-28T13:35:35.607652Z"
    }
   },
   "outputs": [
    {
     "data": {
      "text/plain": [
       "array([[1, 1, 1, 1, 1],\n",
       "       [1, 1, 1, 1, 1]])"
      ]
     },
     "execution_count": 46,
     "metadata": {},
     "output_type": "execute_result"
    }
   ],
   "source": [
    "np.ones_like(x2)"
   ]
  },
  {
   "cell_type": "code",
   "execution_count": 3,
   "id": "517caabf7776fb92",
   "metadata": {
    "ExecuteTime": {
     "end_time": "2024-10-31T00:00:29.027904Z",
     "start_time": "2024-10-31T00:00:29.020334Z"
    }
   },
   "outputs": [],
   "source": [
    "# 和ones/ones_like相同\n",
    "np.zeros_like?"
   ]
  },
  {
   "cell_type": "code",
   "execution_count": 49,
   "id": "9a58c1a033ced0ae",
   "metadata": {
    "ExecuteTime": {
     "end_time": "2024-10-28T13:40:47.990413Z",
     "start_time": "2024-10-28T13:40:47.986618Z"
    }
   },
   "outputs": [
    {
     "data": {
      "text/plain": [
       "array([0, 0, 0, 0, 0])"
      ]
     },
     "execution_count": 49,
     "metadata": {},
     "output_type": "execute_result"
    }
   ],
   "source": [
    "np.zeros_like(x1)"
   ]
  },
  {
   "cell_type": "code",
   "execution_count": 50,
   "id": "49776e21199fbc2f",
   "metadata": {
    "ExecuteTime": {
     "end_time": "2024-10-28T13:40:49.843534Z",
     "start_time": "2024-10-28T13:40:49.839780Z"
    }
   },
   "outputs": [
    {
     "data": {
      "text/plain": [
       "array([[0, 0, 0, 0, 0],\n",
       "       [0, 0, 0, 0, 0]])"
      ]
     },
     "execution_count": 50,
     "metadata": {},
     "output_type": "execute_result"
    }
   ],
   "source": [
    "np.zeros_like(x2)"
   ]
  },
  {
   "cell_type": "code",
   "execution_count": 51,
   "id": "c5f6f09cd8801b6d",
   "metadata": {
    "ExecuteTime": {
     "end_time": "2024-10-28T13:41:50.138799Z",
     "start_time": "2024-10-28T13:41:50.136160Z"
    }
   },
   "outputs": [],
   "source": [
    "np.empty?\n",
    "# empty(shape, dtype=float, order='C', *, device=None, like=None)\n",
    "# 里面元素是随机的"
   ]
  },
  {
   "cell_type": "code",
   "execution_count": 52,
   "id": "ffe871d02c4772d4",
   "metadata": {
    "ExecuteTime": {
     "end_time": "2024-10-28T13:42:43.543652Z",
     "start_time": "2024-10-28T13:42:43.539578Z"
    }
   },
   "outputs": [
    {
     "data": {
      "text/plain": [
       "array([0.00000000e+000, 1.10746561e-311, 1.10746561e-311, 1.10746561e-311])"
      ]
     },
     "execution_count": 52,
     "metadata": {},
     "output_type": "execute_result"
    }
   ],
   "source": [
    "np.empty(4)"
   ]
  },
  {
   "cell_type": "code",
   "execution_count": 53,
   "id": "3e478e61659832cb",
   "metadata": {
    "ExecuteTime": {
     "end_time": "2024-10-28T13:42:57.771684Z",
     "start_time": "2024-10-28T13:42:57.768518Z"
    }
   },
   "outputs": [
    {
     "data": {
      "text/plain": [
       "array([            0, 2241535356272, 2241535357472, 2241535355232])"
      ]
     },
     "execution_count": 53,
     "metadata": {},
     "output_type": "execute_result"
    }
   ],
   "source": [
    "np.empty(4,dtype=int)"
   ]
  },
  {
   "cell_type": "code",
   "execution_count": 54,
   "id": "f138d77b079531c7",
   "metadata": {
    "ExecuteTime": {
     "end_time": "2024-10-28T13:43:19.358712Z",
     "start_time": "2024-10-28T13:43:19.354733Z"
    }
   },
   "outputs": [
    {
     "data": {
      "text/plain": [
       "array([[2.12199579e-314, 1.10555981e-311],\n",
       "       [8.55721699e-321, 6.95293141e-310]])"
      ]
     },
     "execution_count": 54,
     "metadata": {},
     "output_type": "execute_result"
    }
   ],
   "source": [
    "np.empty( (2,2) )"
   ]
  },
  {
   "cell_type": "code",
   "execution_count": 55,
   "id": "252c0dcc6bfb8152",
   "metadata": {
    "ExecuteTime": {
     "end_time": "2024-10-28T13:43:31.241305Z",
     "start_time": "2024-10-28T13:43:31.238497Z"
    }
   },
   "outputs": [],
   "source": [
    "np.empty_like?\n",
    "# empty_like(prototype, dtype=None, order='K', subok=True, shape=None, *,\n",
    "#           device=None)\n",
    "# prototype: 根据传入的对象，返回同类型但元素随机的array"
   ]
  },
  {
   "cell_type": "code",
   "execution_count": 56,
   "id": "e7ac37d168090e54",
   "metadata": {
    "ExecuteTime": {
     "end_time": "2024-10-28T13:50:50.613455Z",
     "start_time": "2024-10-28T13:50:50.609695Z"
    }
   },
   "outputs": [
    {
     "data": {
      "text/plain": [
       "array([25895968444448860, 23925768161198147, 32370111954616435,\n",
       "           2241535344640,           7077888])"
      ]
     },
     "execution_count": 56,
     "metadata": {},
     "output_type": "execute_result"
    }
   ],
   "source": [
    "np.empty_like(x1)"
   ]
  },
  {
   "cell_type": "code",
   "execution_count": 57,
   "id": "f3bc9f96e747fcd6",
   "metadata": {
    "ExecuteTime": {
     "end_time": "2024-10-28T13:51:31.034356Z",
     "start_time": "2024-10-28T13:51:31.030526Z"
    }
   },
   "outputs": [
    {
     "data": {
      "text/plain": [
       "array([[-1,  0,  0,  0,  0],\n",
       "       [ 0,  0,  0,  0,  0]])"
      ]
     },
     "execution_count": 57,
     "metadata": {},
     "output_type": "execute_result"
    }
   ],
   "source": [
    "np.empty_like(x2)"
   ]
  },
  {
   "cell_type": "code",
   "execution_count": 13,
   "id": "3ec661cf38c5c6e2",
   "metadata": {
    "ExecuteTime": {
     "end_time": "2024-10-30T13:16:05.761976Z",
     "start_time": "2024-10-30T13:16:05.758912Z"
    }
   },
   "outputs": [
    {
     "data": {
      "text/plain": [
       "'3.12.7 | packaged by Anaconda, Inc. | (main, Oct  4 2024, 13:17:27) [MSC v.1929 64 bit (AMD64)]'"
      ]
     },
     "execution_count": 13,
     "metadata": {},
     "output_type": "execute_result"
    }
   ],
   "source": [
    "import sys\n",
    "sys.version\n",
    "# 输出的是idea的环境，不是系统变量的原因？\n",
    "# PyCharm实现的，否则首先使用系统变量"
   ]
  },
  {
   "cell_type": "code",
   "execution_count": 2,
   "id": "275d262daf35400f",
   "metadata": {
    "ExecuteTime": {
     "end_time": "2024-10-30T23:52:17.069382Z",
     "start_time": "2024-10-30T23:52:16.320524Z"
    }
   },
   "outputs": [],
   "source": [
    "import numpy as np\n",
    "\n",
    "# np.full(\n",
    "#     shape,\n",
    "#     fill_value,\n",
    "#     dtype=None,\n",
    "#     order='C',\n",
    "#     *,\n",
    "#     device=None,\n",
    "#     like=None,\n",
    "# )\n",
    "np.full?"
   ]
  },
  {
   "cell_type": "code",
   "execution_count": 22,
   "id": "21b58099deab7f41",
   "metadata": {
    "ExecuteTime": {
     "end_time": "2024-10-30T13:18:18.747627Z",
     "start_time": "2024-10-30T13:18:18.744032Z"
    }
   },
   "outputs": [
    {
     "data": {
      "text/plain": [
       "array([1, 1, 1, 1])"
      ]
     },
     "execution_count": 22,
     "metadata": {},
     "output_type": "execute_result"
    }
   ],
   "source": [
    "np.full(4,1)"
   ]
  },
  {
   "cell_type": "code",
   "execution_count": 23,
   "id": "d79c38ff179889c",
   "metadata": {
    "ExecuteTime": {
     "end_time": "2024-10-30T13:18:27.889594Z",
     "start_time": "2024-10-30T13:18:27.885252Z"
    }
   },
   "outputs": [
    {
     "data": {
      "text/plain": [
       "array([[2, 2, 2, 2],\n",
       "       [2, 2, 2, 2],\n",
       "       [2, 2, 2, 2]])"
      ]
     },
     "execution_count": 23,
     "metadata": {},
     "output_type": "execute_result"
    }
   ],
   "source": [
    "np.full((3,4),2)"
   ]
  },
  {
   "cell_type": "code",
   "execution_count": 24,
   "id": "2337501b32ce5680",
   "metadata": {
    "ExecuteTime": {
     "end_time": "2024-10-30T13:18:49.468648Z",
     "start_time": "2024-10-30T13:18:49.465261Z"
    }
   },
   "outputs": [
    {
     "data": {
      "text/plain": [
       "array([666, 666, 666, 666, 666])"
      ]
     },
     "execution_count": 24,
     "metadata": {},
     "output_type": "execute_result"
    }
   ],
   "source": [
    "np.full_like(x1,666)"
   ]
  },
  {
   "cell_type": "code",
   "execution_count": 25,
   "id": "67cae5c0295d579b",
   "metadata": {
    "ExecuteTime": {
     "end_time": "2024-10-30T13:18:55.962452Z",
     "start_time": "2024-10-30T13:18:55.958630Z"
    }
   },
   "outputs": [
    {
     "data": {
      "text/plain": [
       "array([[666, 666, 666, 666, 666],\n",
       "       [666, 666, 666, 666, 666]])"
      ]
     },
     "execution_count": 25,
     "metadata": {},
     "output_type": "execute_result"
    }
   ],
   "source": [
    "np.full_like(x2, 666)"
   ]
  },
  {
   "cell_type": "code",
   "execution_count": 28,
   "id": "1e9566d2ddd06741",
   "metadata": {
    "ExecuteTime": {
     "end_time": "2024-10-30T13:21:10.850581Z",
     "start_time": "2024-10-30T13:21:10.846377Z"
    }
   },
   "outputs": [],
   "source": [
    "np.random.randn?\n",
    "# randn(d0, d1, ..., dn)\n",
    "# 返回维度为d0*d1*...*dn的数组，且符合正态分布"
   ]
  },
  {
   "cell_type": "code",
   "execution_count": 29,
   "id": "310277eb7affd33c",
   "metadata": {
    "ExecuteTime": {
     "end_time": "2024-10-30T13:24:05.295360Z",
     "start_time": "2024-10-30T13:24:05.290636Z"
    }
   },
   "outputs": [
    {
     "data": {
      "text/plain": [
       "1.0015358274407484"
      ]
     },
     "execution_count": 29,
     "metadata": {},
     "output_type": "execute_result"
    }
   ],
   "source": [
    "np.random.randn()"
   ]
  },
  {
   "cell_type": "code",
   "execution_count": 30,
   "id": "be9a2ea33fb9bc6c",
   "metadata": {
    "ExecuteTime": {
     "end_time": "2024-10-30T13:24:19.307056Z",
     "start_time": "2024-10-30T13:24:19.303167Z"
    }
   },
   "outputs": [
    {
     "data": {
      "text/plain": [
       "array([ 0.31482864, -0.73433727,  0.09028981])"
      ]
     },
     "execution_count": 30,
     "metadata": {},
     "output_type": "execute_result"
    }
   ],
   "source": [
    "np.random.randn(3)"
   ]
  },
  {
   "cell_type": "code",
   "execution_count": 31,
   "id": "9cb7a3c63f8b70b8",
   "metadata": {
    "ExecuteTime": {
     "end_time": "2024-10-30T13:24:24.270095Z",
     "start_time": "2024-10-30T13:24:24.266608Z"
    }
   },
   "outputs": [
    {
     "data": {
      "text/plain": [
       "array([[ 1.12230245,  1.13655325],\n",
       "       [ 1.10020571, -0.16900517],\n",
       "       [-0.18112429, -0.57835511]])"
      ]
     },
     "execution_count": 31,
     "metadata": {},
     "output_type": "execute_result"
    }
   ],
   "source": [
    "np.random.randn(3,2)"
   ]
  },
  {
   "cell_type": "code",
   "execution_count": 32,
   "id": "a2db995964896162",
   "metadata": {
    "ExecuteTime": {
     "end_time": "2024-10-30T13:24:30.268776Z",
     "start_time": "2024-10-30T13:24:30.264413Z"
    }
   },
   "outputs": [
    {
     "data": {
      "text/plain": [
       "array([[[-2.00244356e-01,  9.16078369e-01,  8.48348664e-01,\n",
       "         -1.30839252e+00,  1.15651388e+00, -6.04746454e-01],\n",
       "        [-4.90237136e-01,  2.18280641e-01,  2.79386569e-01,\n",
       "          1.29338381e+00,  2.29056111e+00,  1.72864044e-01],\n",
       "        [-1.84337447e-01,  1.57629452e-01,  1.51667254e+00,\n",
       "         -1.59108316e+00,  1.54964946e+00,  8.92723989e-02],\n",
       "        [ 1.23211938e+00,  1.60085229e+00, -8.78390229e-01,\n",
       "         -4.21877923e-01,  1.79446286e+00, -1.15569578e+00]],\n",
       "\n",
       "       [[ 7.73033760e-01,  2.23484800e-01,  8.30580867e-02,\n",
       "          7.91759615e-01,  5.03247098e-01, -2.34566226e-01],\n",
       "        [-1.44416845e+00,  3.62387829e-01,  1.96886578e+00,\n",
       "         -9.41249120e-01, -1.49406740e+00,  1.49456684e+00],\n",
       "        [-1.39797526e+00, -8.20605794e-01,  2.58491662e-01,\n",
       "          5.17397515e-01, -4.03850381e-01,  6.22298464e-01],\n",
       "        [-1.05592349e+00,  1.82362466e+00, -1.63776456e+00,\n",
       "          1.58820284e+00, -1.26396847e+00,  7.14606720e-01]],\n",
       "\n",
       "       [[ 9.88892587e-02, -3.09458148e-01,  1.54363909e+00,\n",
       "         -6.78420275e-01, -2.91848965e-01, -1.27451802e-03],\n",
       "        [ 1.30417437e-01, -2.62510515e-01, -1.79861520e+00,\n",
       "         -2.31869080e-01, -2.09789485e+00, -2.20001034e+00],\n",
       "        [ 4.25539267e-02, -1.53733563e-01,  7.89251687e-01,\n",
       "          5.64834013e-01, -1.41329407e+00, -3.07867749e-01],\n",
       "        [-5.46665603e-01,  4.49484892e-01, -3.50172768e-01,\n",
       "         -1.17313966e+00, -1.37753267e+00, -9.66341987e-01]]])"
      ]
     },
     "execution_count": 32,
     "metadata": {},
     "output_type": "execute_result"
    }
   ],
   "source": [
    "np.random.randn(3,4,6)"
   ]
  },
  {
   "cell_type": "code",
   "execution_count": 36,
   "id": "786e233d9ee54e13",
   "metadata": {
    "ExecuteTime": {
     "end_time": "2024-10-30T13:26:54.401806Z",
     "start_time": "2024-10-30T13:26:54.398493Z"
    }
   },
   "outputs": [
    {
     "data": {
      "text/plain": [
       "array([[0, 1, 2, 3, 4],\n",
       "       [5, 6, 7, 8, 9]])"
      ]
     },
     "execution_count": 36,
     "metadata": {},
     "output_type": "execute_result"
    }
   ],
   "source": [
    "# array本身支持大量的操作和函数\n",
    "arr = np.arange(10).reshape(2,5) \n",
    "# 需要注意reshape的参数的乘积必须等于原数组的个数\n",
    "arr"
   ]
  },
  {
   "cell_type": "code",
   "execution_count": 37,
   "id": "f3d2b79580ee820a",
   "metadata": {
    "ExecuteTime": {
     "end_time": "2024-10-30T13:28:08.478426Z",
     "start_time": "2024-10-30T13:28:08.475026Z"
    }
   },
   "outputs": [
    {
     "data": {
      "text/plain": [
       "(2, 5)"
      ]
     },
     "execution_count": 37,
     "metadata": {},
     "output_type": "execute_result"
    }
   ],
   "source": [
    "arr.shape"
   ]
  },
  {
   "cell_type": "code",
   "execution_count": 43,
   "id": "50c695d3a3f50b32",
   "metadata": {
    "ExecuteTime": {
     "end_time": "2024-10-30T13:30:00.389466Z",
     "start_time": "2024-10-30T13:30:00.386329Z"
    }
   },
   "outputs": [
    {
     "data": {
      "text/plain": [
       "array([[ 1,  2,  3,  4,  5],\n",
       "       [ 6,  7,  8,  9, 10]])"
      ]
     },
     "execution_count": 43,
     "metadata": {},
     "output_type": "execute_result"
    }
   ],
   "source": [
    "arr+1 \n",
    "# 所有元素+1"
   ]
  },
  {
   "cell_type": "code",
   "execution_count": 44,
   "id": "27030ab490a8e3b1",
   "metadata": {
    "ExecuteTime": {
     "end_time": "2024-10-30T13:30:20.617199Z",
     "start_time": "2024-10-30T13:30:20.614136Z"
    }
   },
   "outputs": [
    {
     "data": {
      "text/plain": [
       "array([[ 0, 10, 20, 30, 40],\n",
       "       [50, 60, 70, 80, 90]])"
      ]
     },
     "execution_count": 44,
     "metadata": {},
     "output_type": "execute_result"
    }
   ],
   "source": [
    "arr*10\n",
    "# 所有元素*10"
   ]
  },
  {
   "cell_type": "code",
   "execution_count": 40,
   "id": "3d5ebfa83aa6eabc",
   "metadata": {
    "ExecuteTime": {
     "end_time": "2024-10-30T13:28:57.620527Z",
     "start_time": "2024-10-30T13:28:57.616918Z"
    }
   },
   "outputs": [
    {
     "data": {
      "text/plain": [
       "array([[ 0.        ,  0.84147098,  0.90929743,  0.14112001, -0.7568025 ],\n",
       "       [-0.95892427, -0.2794155 ,  0.6569866 ,  0.98935825,  0.41211849]])"
      ]
     },
     "execution_count": 40,
     "metadata": {},
     "output_type": "execute_result"
    }
   ],
   "source": [
    "np.sin(arr)\n",
    "# 求sin"
   ]
  },
  {
   "cell_type": "code",
   "execution_count": 46,
   "id": "7e7cf85fdea9e1bd",
   "metadata": {
    "ExecuteTime": {
     "end_time": "2024-10-30T13:30:57.440276Z",
     "start_time": "2024-10-30T13:30:57.436493Z"
    }
   },
   "outputs": [
    {
     "data": {
      "text/plain": [
       "array([[1.00000000e+00, 2.71828183e+00, 7.38905610e+00, 2.00855369e+01,\n",
       "        5.45981500e+01],\n",
       "       [1.48413159e+02, 4.03428793e+02, 1.09663316e+03, 2.98095799e+03,\n",
       "        8.10308393e+03]])"
      ]
     },
     "execution_count": 46,
     "metadata": {},
     "output_type": "execute_result"
    }
   ],
   "source": [
    "np.exp(arr)\n",
    "# 求e的x次方，x为数组的元素"
   ]
  },
  {
   "cell_type": "code",
   "execution_count": 53,
   "id": "278f046b3af6beb",
   "metadata": {
    "ExecuteTime": {
     "end_time": "2024-10-30T13:34:41.250281Z",
     "start_time": "2024-10-30T13:34:41.247100Z"
    }
   },
   "outputs": [],
   "source": [
    "arr1 = np.array([\n",
    "    [1,2,3],\n",
    "    [2,2,3]\n",
    "])\n",
    "arr2 = np.array([\n",
    "    [1,2,3],\n",
    "    [2,2,3]\n",
    "])\n",
    "# 对相同维度的数组进行 算数 运算"
   ]
  },
  {
   "cell_type": "code",
   "execution_count": 54,
   "id": "108bbc3d70de2c76",
   "metadata": {
    "ExecuteTime": {
     "end_time": "2024-10-30T13:34:49.888432Z",
     "start_time": "2024-10-30T13:34:49.884155Z"
    }
   },
   "outputs": [
    {
     "data": {
      "text/plain": [
       "array([[2, 4, 6],\n",
       "       [4, 4, 6]])"
      ]
     },
     "execution_count": 54,
     "metadata": {},
     "output_type": "execute_result"
    }
   ],
   "source": [
    "arr1+arr2"
   ]
  },
  {
   "cell_type": "code",
   "execution_count": 55,
   "id": "827bb1f583c79f22",
   "metadata": {
    "ExecuteTime": {
     "end_time": "2024-10-30T13:35:01.810527Z",
     "start_time": "2024-10-30T13:35:01.806918Z"
    }
   },
   "outputs": [
    {
     "data": {
      "text/plain": [
       "array([[0, 0, 0],\n",
       "       [0, 0, 0]])"
      ]
     },
     "execution_count": 55,
     "metadata": {},
     "output_type": "execute_result"
    }
   ],
   "source": [
    "arr1-arr2"
   ]
  },
  {
   "cell_type": "code",
   "execution_count": 56,
   "id": "1af0eecfe42b2cea",
   "metadata": {
    "ExecuteTime": {
     "end_time": "2024-10-30T13:35:07.945151Z",
     "start_time": "2024-10-30T13:35:07.941695Z"
    }
   },
   "outputs": [
    {
     "data": {
      "text/plain": [
       "array([[1, 4, 9],\n",
       "       [4, 4, 9]])"
      ]
     },
     "execution_count": 56,
     "metadata": {},
     "output_type": "execute_result"
    }
   ],
   "source": [
    "arr1*arr2"
   ]
  },
  {
   "cell_type": "code",
   "execution_count": 57,
   "id": "aa09db2e7a5a51b1",
   "metadata": {
    "ExecuteTime": {
     "end_time": "2024-10-30T13:35:43.434102Z",
     "start_time": "2024-10-30T13:35:43.430102Z"
    }
   },
   "outputs": [
    {
     "data": {
      "text/plain": [
       "array([[1., 1., 1.],\n",
       "       [1., 1., 1.]])"
      ]
     },
     "execution_count": 57,
     "metadata": {},
     "output_type": "execute_result"
    }
   ],
   "source": [
    "arr1/arr2"
   ]
  },
  {
   "cell_type": "markdown",
   "id": "f966ae81cb0114e8",
   "metadata": {},
   "source": [
    "  对数组使用索引查询"
   ]
  },
  {
   "cell_type": "code",
   "execution_count": 9,
   "id": "6a591399a69a8fe9",
   "metadata": {
    "ExecuteTime": {
     "end_time": "2024-10-31T01:05:04.496296Z",
     "start_time": "2024-10-31T01:05:04.492609Z"
    }
   },
   "outputs": [],
   "source": [
    "import numpy as np\n",
    "x1 = np.arange(10) ** 2\n",
    "x2 = np.arange(9).reshape(3,3)"
   ]
  },
  {
   "cell_type": "code",
   "execution_count": 10,
   "id": "59a98bc7c7341c4b",
   "metadata": {
    "ExecuteTime": {
     "end_time": "2024-10-31T01:05:06.224030Z",
     "start_time": "2024-10-31T01:05:06.220104Z"
    }
   },
   "outputs": [
    {
     "name": "stdout",
     "output_type": "stream",
     "text": [
      "[ 0  1  4  9 16 25 36 49 64 81] \n",
      " [[0 1 2]\n",
      " [3 4 5]\n",
      " [6 7 8]]\n"
     ]
    }
   ],
   "source": [
    "print(x1,'\\n',x2)"
   ]
  },
  {
   "cell_type": "code",
   "execution_count": 12,
   "id": "569808907a244a9d",
   "metadata": {
    "ExecuteTime": {
     "end_time": "2024-10-31T01:05:18.530924Z",
     "start_time": "2024-10-31T01:05:18.525400Z"
    }
   },
   "outputs": [
    {
     "data": {
      "text/plain": [
       "np.int64(9)"
      ]
     },
     "execution_count": 12,
     "metadata": {},
     "output_type": "execute_result"
    }
   ],
   "source": [
    "# 一维数组类似于Python的List\n",
    "x1[3]"
   ]
  },
  {
   "cell_type": "code",
   "execution_count": 13,
   "id": "e8416dffe2674c2f",
   "metadata": {
    "ExecuteTime": {
     "end_time": "2024-10-31T01:05:35.039600Z",
     "start_time": "2024-10-31T01:05:35.033960Z"
    }
   },
   "outputs": [
    {
     "data": {
      "text/plain": [
       "array([0, 1, 4, 9])"
      ]
     },
     "execution_count": 13,
     "metadata": {},
     "output_type": "execute_result"
    }
   ],
   "source": [
    "x1[:4]"
   ]
  },
  {
   "cell_type": "code",
   "execution_count": 16,
   "id": "f72e1a83332809b8",
   "metadata": {
    "ExecuteTime": {
     "end_time": "2024-10-31T01:06:39.548974Z",
     "start_time": "2024-10-31T01:06:39.544733Z"
    }
   },
   "outputs": [
    {
     "data": {
      "text/plain": [
       "array([ 4,  9, 16, 25, 36, 49, 64])"
      ]
     },
     "execution_count": 16,
     "metadata": {},
     "output_type": "execute_result"
    }
   ],
   "source": [
    "x1[2:-1]"
   ]
  },
  {
   "cell_type": "code",
   "execution_count": 17,
   "id": "5260bdff26448ea6",
   "metadata": {
    "ExecuteTime": {
     "end_time": "2024-10-31T01:06:52.590208Z",
     "start_time": "2024-10-31T01:06:52.585690Z"
    }
   },
   "outputs": [
    {
     "data": {
      "text/plain": [
       "array([ 0,  1,  4,  9, 16, 25])"
      ]
     },
     "execution_count": 17,
     "metadata": {},
     "output_type": "execute_result"
    }
   ],
   "source": [
    "x1[:-4]"
   ]
  },
  {
   "cell_type": "code",
   "execution_count": 19,
   "id": "a8acd1a82c85bd2d",
   "metadata": {
    "ExecuteTime": {
     "end_time": "2024-10-31T01:08:31.591327Z",
     "start_time": "2024-10-31T01:08:31.585707Z"
    }
   },
   "outputs": [
    {
     "data": {
      "text/plain": [
       "array([6, 7, 8])"
      ]
     },
     "execution_count": 19,
     "metadata": {},
     "output_type": "execute_result"
    }
   ],
   "source": [
    "# 二维数组,不使用多个[][]来分别选行和列，使用一个[row,col]来选择\n",
    "x2[2]"
   ]
  },
  {
   "cell_type": "code",
   "execution_count": 21,
   "id": "8353da163826dcb8",
   "metadata": {
    "ExecuteTime": {
     "end_time": "2024-10-31T01:27:08.402817Z",
     "start_time": "2024-10-31T01:27:08.397305Z"
    }
   },
   "outputs": [
    {
     "data": {
      "text/plain": [
       "array([[0, 1, 2],\n",
       "       [3, 4, 5],\n",
       "       [6, 7, 8]])"
      ]
     },
     "execution_count": 21,
     "metadata": {},
     "output_type": "execute_result"
    }
   ],
   "source": [
    "x2[:3]"
   ]
  },
  {
   "cell_type": "code",
   "execution_count": 22,
   "id": "6f164616e76577db",
   "metadata": {
    "ExecuteTime": {
     "end_time": "2024-10-31T01:27:34.465032Z",
     "start_time": "2024-10-31T01:27:34.460034Z"
    }
   },
   "outputs": [
    {
     "data": {
      "text/plain": [
       "array([2, 5, 8])"
      ]
     },
     "execution_count": 22,
     "metadata": {},
     "output_type": "execute_result"
    }
   ],
   "source": [
    "x2[:,2]"
   ]
  },
  {
   "cell_type": "code",
   "execution_count": 23,
   "id": "c23543ab9610157c",
   "metadata": {
    "ExecuteTime": {
     "end_time": "2024-10-31T01:27:46.305852Z",
     "start_time": "2024-10-31T01:27:46.301350Z"
    }
   },
   "outputs": [
    {
     "data": {
      "text/plain": [
       "array([[0, 1],\n",
       "       [3, 4],\n",
       "       [6, 7]])"
      ]
     },
     "execution_count": 23,
     "metadata": {},
     "output_type": "execute_result"
    }
   ],
   "source": [
    "x2[:, 0:2]"
   ]
  },
  {
   "cell_type": "code",
   "execution_count": 25,
   "id": "ccc61852aa907b21",
   "metadata": {
    "ExecuteTime": {
     "end_time": "2024-10-31T01:28:05.112790Z",
     "start_time": "2024-10-31T01:28:05.108238Z"
    }
   },
   "outputs": [
    {
     "data": {
      "text/plain": [
       "np.int64(4)"
      ]
     },
     "execution_count": 25,
     "metadata": {},
     "output_type": "execute_result"
    }
   ],
   "source": [
    "x2[1,1]"
   ]
  },
  {
   "cell_type": "code",
   "execution_count": 26,
   "id": "500b7e6a986a2c9b",
   "metadata": {
    "ExecuteTime": {
     "end_time": "2024-10-31T01:29:28.807637Z",
     "start_time": "2024-10-31T01:29:28.802729Z"
    }
   },
   "outputs": [
    {
     "data": {
      "text/plain": [
       "array([[0, 1, 2],\n",
       "       [3, 3, 3],\n",
       "       [6, 7, 8]])"
      ]
     },
     "execution_count": 26,
     "metadata": {},
     "output_type": "execute_result"
    }
   ],
   "source": [
    "# Numpy切片的修改可以影响原数组\n",
    "x2[1] = 3\n",
    "x2"
   ]
  },
  {
   "cell_type": "code",
   "execution_count": 33,
   "id": "babeac15890fe3d9",
   "metadata": {
    "ExecuteTime": {
     "end_time": "2024-10-31T01:32:15.897612Z",
     "start_time": "2024-10-31T01:32:15.892090Z"
    }
   },
   "outputs": [
    {
     "data": {
      "text/plain": [
       "[1, 3, 4, 4, 5]"
      ]
     },
     "execution_count": 33,
     "metadata": {},
     "output_type": "execute_result"
    }
   ],
   "source": [
    "x3 = [1,2,3,4,5]\n",
    "x3[:3] = [1,3,4]\n",
    "x3"
   ]
  },
  {
   "cell_type": "code",
   "execution_count": 63,
   "id": "b806bbb9f7dd6859",
   "metadata": {
    "ExecuteTime": {
     "end_time": "2024-10-31T02:03:54.635499Z",
     "start_time": "2024-10-31T02:03:54.628818Z"
    }
   },
   "outputs": [
    {
     "name": "stdout",
     "output_type": "stream",
     "text": [
      "[ 0  1  4  9 16 25 36 49 64 81]\n"
     ]
    },
    {
     "data": {
      "text/plain": [
       "array([0, 4, 1])"
      ]
     },
     "execution_count": 63,
     "metadata": {},
     "output_type": "execute_result"
    }
   ],
   "source": [
    "# 神奇索引：即给定索引时可以提供不连续的索引\n",
    "# 且返回的数组是按给定索引的顺序给出的\n",
    "\n",
    "# 一维数组\n",
    "print(x1)\n",
    "x1[ [0,2,1] ]"
   ]
  },
  {
   "cell_type": "code",
   "execution_count": 64,
   "id": "e2cb5aa22d6f6227",
   "metadata": {
    "ExecuteTime": {
     "end_time": "2024-10-31T02:04:37.675649Z",
     "start_time": "2024-10-31T02:04:37.670811Z"
    }
   },
   "outputs": [
    {
     "data": {
      "text/plain": [
       "array([[0, 1],\n",
       "       [1, 4]])"
      ]
     },
     "execution_count": 64,
     "metadata": {},
     "output_type": "execute_result"
    }
   ],
   "source": [
    "# 根据index的形状，将index的元素作为一维数组下标，然后根据下标指向的值填充到index中\n",
    "index = [\n",
    "    [0,1],\n",
    "    [1,2]\n",
    "]\n",
    "x1[index]"
   ]
  },
  {
   "cell_type": "code",
   "execution_count": 61,
   "id": "5e1eaab5e1dfec8a",
   "metadata": {
    "ExecuteTime": {
     "end_time": "2024-10-31T02:03:04.568758Z",
     "start_time": "2024-10-31T02:03:04.563978Z"
    }
   },
   "outputs": [
    {
     "data": {
      "text/plain": [
       "array([[0, 1, 2],\n",
       "       [6, 7, 8]])"
      ]
     },
     "execution_count": 61,
     "metadata": {},
     "output_type": "execute_result"
    }
   ],
   "source": [
    "# 二维数组\n",
    "x2[ [0,2] ]"
   ]
  },
  {
   "cell_type": "code",
   "execution_count": 35,
   "id": "7d80a8545a1502dd",
   "metadata": {
    "ExecuteTime": {
     "end_time": "2024-10-31T01:37:34.202244Z",
     "start_time": "2024-10-31T01:37:34.197360Z"
    }
   },
   "outputs": [
    {
     "data": {
      "text/plain": [
       "array([[0, 2, 1],\n",
       "       [3, 3, 3],\n",
       "       [6, 8, 7]])"
      ]
     },
     "execution_count": 35,
     "metadata": {},
     "output_type": "execute_result"
    }
   ],
   "source": [
    "# 列\n",
    "x2[:, [0,2,1]]"
   ]
  },
  {
   "cell_type": "code",
   "execution_count": 38,
   "id": "b7d6a97b2e60660d",
   "metadata": {
    "ExecuteTime": {
     "end_time": "2024-10-31T01:41:50.980586Z",
     "start_time": "2024-10-31T01:41:50.974638Z"
    }
   },
   "outputs": [
    {
     "data": {
      "text/plain": [
       "array([0, 3])"
      ]
     },
     "execution_count": 38,
     "metadata": {},
     "output_type": "execute_result"
    }
   ],
   "source": [
    "# 单个元素,[x1,x2,...,xn],[y1,y2,...,yn]，获取[x1][y1],[x2][y2]的元素,必须保证x和y的数量相同\n",
    "\n",
    "x2[[0,1],[0,1]]"
   ]
  },
  {
   "cell_type": "code",
   "execution_count": 42,
   "id": "eefc23b2b3c7446c",
   "metadata": {
    "ExecuteTime": {
     "end_time": "2024-10-31T01:42:43.759511Z",
     "start_time": "2024-10-31T01:42:43.755198Z"
    }
   },
   "outputs": [
    {
     "data": {
      "text/plain": [
       "array([[0, 1]])"
      ]
     },
     "execution_count": 42,
     "metadata": {},
     "output_type": "execute_result"
    }
   ],
   "source": [
    "x2[0:1,0:2]"
   ]
  },
  {
   "cell_type": "code",
   "execution_count": 51,
   "id": "8990b02ea2b1313e",
   "metadata": {
    "ExecuteTime": {
     "end_time": "2024-10-31T01:51:06.958950Z",
     "start_time": "2024-10-31T01:51:06.953599Z"
    }
   },
   "outputs": [
    {
     "name": "stdout",
     "output_type": "stream",
     "text": [
      "[[0 1 2]\n",
      " [3 3 3]\n",
      " [6 7 8]]\n"
     ]
    },
    {
     "data": {
      "text/plain": [
       "array([[[3, 3, 3],\n",
       "        [0, 1, 2]],\n",
       "\n",
       "       [[6, 7, 8],\n",
       "        [3, 3, 3]]])"
      ]
     },
     "execution_count": 51,
     "metadata": {},
     "output_type": "execute_result"
    }
   ],
   "source": [
    "# 如果indexs是Python的列表，传入一个参数为列表时，则在indexs的基础上，将各个元素替换为x2所对应的行即可\n",
    "indexs = [\n",
    "    [1,0],\n",
    "    [2,1]\n",
    "]\n",
    "print(x2)\n",
    "x2[indexs]"
   ]
  },
  {
   "cell_type": "code",
   "execution_count": 53,
   "id": "2741102b9d7ef21a",
   "metadata": {
    "ExecuteTime": {
     "end_time": "2024-10-31T01:52:14.651794Z",
     "start_time": "2024-10-31T01:52:14.646709Z"
    }
   },
   "outputs": [
    {
     "name": "stdout",
     "output_type": "stream",
     "text": [
      "[[0 1 2]\n",
      " [3 3 3]\n",
      " [6 7 8]]\n"
     ]
    },
    {
     "data": {
      "text/plain": [
       "array([[1, 3],\n",
       "       [2, 8]])"
      ]
     },
     "execution_count": 53,
     "metadata": {},
     "output_type": "execute_result"
    }
   ],
   "source": [
    "# 传入两个index列表，则根据index的形状，将两个index的对应位置的元素x1,y1取出，找到原数组x1,y1的元素填充index的位置即可\n",
    "i1 = [\n",
    "    [0,1],\n",
    "    [0,2]\n",
    "]\n",
    "i2 = [\n",
    "    [1,1],\n",
    "    [2,2]\n",
    "]\n",
    "print(x2)\n",
    "x2[i1,i2]"
   ]
  },
  {
   "cell_type": "code",
   "execution_count": 57,
   "id": "b47a434891f2e86c",
   "metadata": {
    "ExecuteTime": {
     "end_time": "2024-10-31T01:57:48.225786Z",
     "start_time": "2024-10-31T01:57:48.221166Z"
    }
   },
   "outputs": [
    {
     "name": "stdout",
     "output_type": "stream",
     "text": [
      "[[0 1 2]\n",
      " [3 3 3]\n",
      " [6 7 8]]\n"
     ]
    },
    {
     "data": {
      "text/plain": [
       "array([[[0, 1, 2],\n",
       "        [3, 3, 3]],\n",
       "\n",
       "       [[0, 1, 2],\n",
       "        [6, 7, 8]]])"
      ]
     },
     "execution_count": 57,
     "metadata": {},
     "output_type": "execute_result"
    }
   ],
   "source": [
    "print(x2)\n",
    "index = np.array([[0,1],[0,2]])\n",
    "x2[index]"
   ]
  },
  {
   "cell_type": "code",
   "execution_count": 60,
   "id": "176707b36704a8b",
   "metadata": {
    "ExecuteTime": {
     "end_time": "2024-10-31T02:00:48.357629Z",
     "start_time": "2024-10-31T02:00:48.352123Z"
    }
   },
   "outputs": [
    {
     "data": {
      "text/plain": [
       "array([[1, 2],\n",
       "       [1, 3]])"
      ]
     },
     "execution_count": 60,
     "metadata": {},
     "output_type": "execute_result"
    }
   ],
   "source": [
    "x = np.arange(10)\n",
    "index = np.array([[1,2],[1,3]])\n",
    "x[index]"
   ]
  },
  {
   "cell_type": "raw",
   "id": "b6df5821907f2528",
   "metadata": {},
   "source": [
    "案例：获取一维数组中最大的前N个数字"
   ]
  },
  {
   "cell_type": "code",
   "execution_count": 1,
   "id": "86affcd411e468af",
   "metadata": {
    "ExecuteTime": {
     "end_time": "2024-10-31T02:39:53.386807Z",
     "start_time": "2024-10-31T02:39:53.380065Z"
    }
   },
   "outputs": [
    {
     "name": "stdout",
     "output_type": "stream",
     "text": [
      "随机数组： [58 32 83 47 68 31 95 86 86 35]\n",
      "排序坐标： [5 1 9 3 0 4 2 7 8 6]\n",
      "根据坐标打印的数组元素：31 32 35 47 58 68 83 86 86 95 \n",
      "最大的前3个元素的下标为 [7 8 6]\n",
      "（按元素大小排序）最大的前3个元素的下标为 [6 8 7]\n",
      "最大的前3个数为: 95 86 86 "
     ]
    }
   ],
   "source": [
    "import numpy as np\n",
    "\n",
    "# 生成10个1-100之间的随机数\n",
    "arr = np.random.randint(1,100,10)\n",
    "print(\"随机数组：\",arr)\n",
    "# 参数axis用于多维数组，指定轴排序,一维数组默认为-1\n",
    "indexs = arr.argsort(axis=-1) # 参数axis用于多维数组，指定轴排序\n",
    "print(\"排序坐标：\", indexs)\n",
    "print(\"根据坐标打印的数组元素：\",end=\"\")\n",
    "for i in indexs:\n",
    "    print(arr[i],end=\" \")\n",
    "print()\n",
    "# 获取下标数组的后三个元素\n",
    "prev_index = indexs[-3:]\n",
    "print(\"最大的前3个元素的下标为\",prev_index)\n",
    "prev_index = prev_index[::-1]\n",
    "print(\"（按元素大小排序）最大的前3个元素的下标为\",prev_index)\n",
    "print(\"最大的前3个数为: \",end=\"\")\n",
    "for i in prev_index:\n",
    "    print(arr[i],end=\" \")"
   ]
  },
  {
   "cell_type": "code",
   "execution_count": 4,
   "id": "5780c507e7655936",
   "metadata": {},
   "outputs": [
    {
     "data": {
      "text/plain": [
       "array([0, 1, 2, 3, 4, 5, 6, 7, 8, 9])"
      ]
     },
     "execution_count": 4,
     "metadata": {},
     "output_type": "execute_result"
    }
   ],
   "source": [
    "x = np.arange(10)\n",
    "x"
   ]
  },
  {
   "cell_type": "code",
   "execution_count": 5,
   "id": "c8e492bc86746e3c",
   "metadata": {},
   "outputs": [
    {
     "data": {
      "text/plain": [
       "array([False, False, False, False, False, False,  True,  True,  True,\n",
       "        True])"
      ]
     },
     "execution_count": 5,
     "metadata": {},
     "output_type": "execute_result"
    }
   ],
   "source": [
    "x>5"
   ]
  },
  {
   "cell_type": "code",
   "execution_count": 6,
   "id": "839c4a606db543b6",
   "metadata": {},
   "outputs": [
    {
     "data": {
      "text/plain": [
       "array([6, 7, 8, 9])"
      ]
     },
     "execution_count": 6,
     "metadata": {},
     "output_type": "execute_result"
    }
   ],
   "source": [
    "x[ x>5 ]"
   ]
  },
  {
   "cell_type": "code",
   "execution_count": 15,
   "id": "adb184fc92a899a8",
   "metadata": {},
   "outputs": [
    {
     "data": {
      "text/plain": [
       "array([0, 0, 2, 0, 4, 0, 6, 0, 8, 0])"
      ]
     },
     "execution_count": 15,
     "metadata": {},
     "output_type": "execute_result"
    }
   ],
   "source": [
    "x = np.arange(10)\n",
    "x[ x%2==1 ] = 0\n",
    "x"
   ]
  },
  {
   "cell_type": "code",
   "execution_count": 18,
   "id": "1b5ca19c6481ce52",
   "metadata": {},
   "outputs": [
    {
     "data": {
      "text/plain": [
       "array([[ 0,  1,  2,  3,  4],\n",
       "       [ 5,  6,  7,  8,  9],\n",
       "       [10, 11, 12, 13, 14],\n",
       "       [15, 16, 17, 18, 19]])"
      ]
     },
     "execution_count": 18,
     "metadata": {},
     "output_type": "execute_result"
    }
   ],
   "source": [
    "x = np.arange(20).reshape(4,5)\n",
    "x"
   ]
  },
  {
   "cell_type": "code",
   "execution_count": 20,
   "id": "acd02e14e299caf7",
   "metadata": {},
   "outputs": [
    {
     "data": {
      "text/plain": [
       "array([[False, False, False, False, False],\n",
       "       [False,  True,  True,  True,  True],\n",
       "       [ True,  True,  True,  True,  True],\n",
       "       [ True,  True,  True,  True,  True]])"
      ]
     },
     "execution_count": 20,
     "metadata": {},
     "output_type": "execute_result"
    }
   ],
   "source": [
    "x>5"
   ]
  },
  {
   "cell_type": "code",
   "execution_count": 21,
   "id": "9f9ce6fb8000140f",
   "metadata": {},
   "outputs": [
    {
     "data": {
      "text/plain": [
       "array([ 6,  7,  8,  9, 10, 11, 12, 13, 14, 15, 16, 17, 18, 19])"
      ]
     },
     "execution_count": 21,
     "metadata": {},
     "output_type": "execute_result"
    }
   ],
   "source": [
    "x[x>5]"
   ]
  },
  {
   "cell_type": "code",
   "execution_count": 22,
   "id": "ece43945de8f32",
   "metadata": {},
   "outputs": [
    {
     "data": {
      "text/plain": [
       "array([False,  True,  True,  True])"
      ]
     },
     "execution_count": 22,
     "metadata": {},
     "output_type": "execute_result"
    }
   ],
   "source": [
    "# 获取第三列大于5的行的布尔索引\n",
    "x[:,3] > 5"
   ]
  },
  {
   "cell_type": "code",
   "execution_count": 23,
   "id": "550cea28-7776-40bd-b267-8ef347ec2502",
   "metadata": {},
   "outputs": [
    {
     "data": {
      "text/plain": [
       "array([[ 5,  6,  7,  8,  9],\n",
       "       [10, 11, 12, 13, 14],\n",
       "       [15, 16, 17, 18, 19]])"
      ]
     },
     "execution_count": 23,
     "metadata": {},
     "output_type": "execute_result"
    }
   ],
   "source": [
    "x[ x[:,3] > 5 ]"
   ]
  },
  {
   "cell_type": "markdown",
   "id": "f5042a84-cb60-464e-ba4d-3f0f39b134a6",
   "metadata": {},
   "source": [
    "random的随机函数"
   ]
  },
  {
   "cell_type": "code",
   "execution_count": 38,
   "id": "ac01703b-77ce-4bf7-82cd-51364000536c",
   "metadata": {},
   "outputs": [],
   "source": [
    "import numpy as np\n",
    "np.random.seed(666) # 当种子设定后，所有人的随机数都相同"
   ]
  },
  {
   "cell_type": "markdown",
   "id": "393a47df-93c9-4f8e-aad3-cc36a4ffcfb0",
   "metadata": {},
   "source": [
    "1 rand(d0,...,dn)"
   ]
  },
  {
   "cell_type": "code",
   "execution_count": 39,
   "id": "aa37b011-2a72-424d-91b0-64a070768f4e",
   "metadata": {},
   "outputs": [
    {
     "data": {
      "text/plain": [
       "array([0.70043712, 0.84418664, 0.67651434, 0.72785806, 0.95145796])"
      ]
     },
     "execution_count": 39,
     "metadata": {},
     "output_type": "execute_result"
    }
   ],
   "source": [
    "np.random.rand(5)"
   ]
  },
  {
   "cell_type": "code",
   "execution_count": 40,
   "id": "43333fce-f7f1-4ed8-b31c-cf4e91b051f7",
   "metadata": {},
   "outputs": [
    {
     "data": {
      "text/plain": [
       "array([[0.0127032 , 0.4135877 , 0.04881279, 0.09992856],\n",
       "       [0.50806631, 0.20024754, 0.74415417, 0.192892  ],\n",
       "       [0.70084475, 0.29322811, 0.77447945, 0.00510884]])"
      ]
     },
     "execution_count": 40,
     "metadata": {},
     "output_type": "execute_result"
    }
   ],
   "source": [
    "np.random.rand(3,4)"
   ]
  },
  {
   "cell_type": "markdown",
   "id": "370a423a-d3d8-4ee9-98e1-5da45264985d",
   "metadata": {},
   "source": [
    "2 randn(d0,...,dn)"
   ]
  },
  {
   "cell_type": "code",
   "execution_count": 41,
   "id": "bb42c34b-1d28-4b88-b461-fdd198ea3cef",
   "metadata": {},
   "outputs": [
    {
     "data": {
      "text/plain": [
       "array([-0.88192175,  1.25327039,  0.02801672,  0.40855719,  0.53928565])"
      ]
     },
     "execution_count": 41,
     "metadata": {},
     "output_type": "execute_result"
    }
   ],
   "source": [
    "np.random.randn(5)"
   ]
  },
  {
   "cell_type": "code",
   "execution_count": 43,
   "id": "af547f85-cd98-4b76-ae20-2c67349a9882",
   "metadata": {},
   "outputs": [
    {
     "data": {
      "text/plain": [
       "array([[-1.54984701,  0.72946452, -0.32695477,  1.14133677],\n",
       "       [ 0.45243662, -2.23496877,  1.27047766, -0.72928821],\n",
       "       [ 1.35925255, -1.20990266, -0.04618272, -0.44118244]])"
      ]
     },
     "execution_count": 43,
     "metadata": {},
     "output_type": "execute_result"
    }
   ],
   "source": [
    "np.random.randn(3,4)"
   ]
  },
  {
   "cell_type": "markdown",
   "id": "3293baa3-43fb-4fad-bd62-fa567340c24b",
   "metadata": {},
   "source": [
    "3 randint( low, [high, size, dtype] )\n",
    "生成的数在[low,high)之间，不指定high则生成[0,low)之间的数"
   ]
  },
  {
   "cell_type": "code",
   "execution_count": 44,
   "id": "2071044c-4516-49c7-b903-e680a87c662a",
   "metadata": {},
   "outputs": [
    {
     "data": {
      "text/plain": [
       "4"
      ]
     },
     "execution_count": 44,
     "metadata": {},
     "output_type": "execute_result"
    }
   ],
   "source": [
    "np.random.randint(6)"
   ]
  },
  {
   "cell_type": "code",
   "execution_count": 46,
   "id": "a03d0002-414a-4ff5-9eca-8dbb6be68c46",
   "metadata": {},
   "outputs": [
    {
     "data": {
      "text/plain": [
       "9"
      ]
     },
     "execution_count": 46,
     "metadata": {},
     "output_type": "execute_result"
    }
   ],
   "source": [
    "np.random.randint(1,10)"
   ]
  },
  {
   "cell_type": "code",
   "execution_count": 49,
   "id": "4689951c-7b59-4bc7-b840-3798e0d3f5c7",
   "metadata": {},
   "outputs": [
    {
     "data": {
      "text/plain": [
       "array([14, 22, 28, 15, 26], dtype=int32)"
      ]
     },
     "execution_count": 49,
     "metadata": {},
     "output_type": "execute_result"
    }
   ],
   "source": [
    "np.random.randint(10,30,size=5) #size为一维时，可不使用元组表示"
   ]
  },
  {
   "cell_type": "code",
   "execution_count": 50,
   "id": "ad700557-0fed-4eba-8105-8c775b4b8c2e",
   "metadata": {},
   "outputs": [
    {
     "data": {
      "text/plain": [
       "array([[14, 24],\n",
       "       [23, 27],\n",
       "       [17, 20],\n",
       "       [22, 25],\n",
       "       [20, 11]], dtype=int32)"
      ]
     },
     "execution_count": 50,
     "metadata": {},
     "output_type": "execute_result"
    }
   ],
   "source": [
    "np.random.randint(10,30,size=(5,2))"
   ]
  },
  {
   "cell_type": "markdown",
   "id": "7a227194-53ee-4139-a0e8-4ae99a2dfef5",
   "metadata": {},
   "source": [
    "4 random([size])"
   ]
  },
  {
   "cell_type": "code",
   "execution_count": 51,
   "id": "5158bcc0-c790-4aef-bd6b-695ce0ec5e5b",
   "metadata": {},
   "outputs": [
    {
     "data": {
      "text/plain": [
       "0.6509180757030384"
      ]
     },
     "execution_count": 51,
     "metadata": {},
     "output_type": "execute_result"
    }
   ],
   "source": [
    "np.random.random()"
   ]
  },
  {
   "cell_type": "code",
   "execution_count": 52,
   "id": "2c137dad-b310-481a-b169-9ea0ffaa84a4",
   "metadata": {},
   "outputs": [
    {
     "data": {
      "text/plain": [
       "array([0.51832728, 0.00355049, 0.80309176, 0.35932938, 0.42014544])"
      ]
     },
     "execution_count": 52,
     "metadata": {},
     "output_type": "execute_result"
    }
   ],
   "source": [
    "np.random.random(5)"
   ]
  },
  {
   "cell_type": "code",
   "execution_count": 53,
   "id": "97af5e7e-5c42-42a9-9b82-68dd0c5aae36",
   "metadata": {},
   "outputs": [
    {
     "data": {
      "text/plain": [
       "array([[0.2026436 , 0.63279787],\n",
       "       [0.18935861, 0.1308497 ],\n",
       "       [0.75765845, 0.34158167],\n",
       "       [0.52138487, 0.88302327],\n",
       "       [0.44914216, 0.23902229]])"
      ]
     },
     "execution_count": 53,
     "metadata": {},
     "output_type": "execute_result"
    }
   ],
   "source": [
    "np.random.random((5,2))"
   ]
  },
  {
   "cell_type": "markdown",
   "id": "748d94af-49d5-4b2f-b7d3-dd6fd140a155",
   "metadata": {},
   "source": [
    "5 choice( a [, size, replace, p] )\n",
    "根据a来生成随机数"
   ]
  },
  {
   "cell_type": "code",
   "execution_count": 54,
   "id": "d9926e6b-653c-4333-84e0-5c9162a75d61",
   "metadata": {},
   "outputs": [
    {
     "data": {
      "text/plain": [
       "array([2, 0, 1], dtype=int32)"
      ]
     },
     "execution_count": 54,
     "metadata": {},
     "output_type": "execute_result"
    }
   ],
   "source": [
    "# a是数字，则从range(a)中选择\n",
    "np.random.choice(5,3) "
   ]
  },
  {
   "cell_type": "code",
   "execution_count": 56,
   "id": "bc255db2-602c-407a-a83a-ebd4dca07eb8",
   "metadata": {},
   "outputs": [
    {
     "data": {
      "text/plain": [
       "array([[0, 0],\n",
       "       [1, 2],\n",
       "       [1, 1],\n",
       "       [2, 2],\n",
       "       [4, 2]], dtype=int32)"
      ]
     },
     "execution_count": 56,
     "metadata": {},
     "output_type": "execute_result"
    }
   ],
   "source": [
    "np.random.choice(5,(5,2))"
   ]
  },
  {
   "cell_type": "code",
   "execution_count": 57,
   "id": "a00d59ca-3600-422c-8fc8-aa24542d03f2",
   "metadata": {},
   "outputs": [
    {
     "data": {
      "text/plain": [
       "array([1, 2, 2, 2, 3])"
      ]
     },
     "execution_count": 57,
     "metadata": {},
     "output_type": "execute_result"
    }
   ],
   "source": [
    "l = [1,2,3,3,3,2,2,1]\n",
    "np.random.choice(l,5)"
   ]
  },
  {
   "cell_type": "markdown",
   "id": "243207e1-20fb-4fd7-be8c-3cc2df8aeec5",
   "metadata": {},
   "source": [
    "6 shuffle(x) 将x随机排列"
   ]
  },
  {
   "cell_type": "code",
   "execution_count": 64,
   "id": "fc28dfe4-754c-45ef-b750-35d7b5e255a2",
   "metadata": {},
   "outputs": [
    {
     "data": {
      "text/plain": [
       "[1, 6, 5, 3, 4, 2, 8, 7]"
      ]
     },
     "execution_count": 64,
     "metadata": {},
     "output_type": "execute_result"
    }
   ],
   "source": [
    "l = [1,2,3,4,5,6,7,8]\n",
    "np.random.shuffle(l)\n",
    "l"
   ]
  },
  {
   "cell_type": "code",
   "execution_count": 65,
   "id": "9bfe54cc-86d0-47d1-b20b-4e1dcd4e64b1",
   "metadata": {},
   "outputs": [
    {
     "data": {
      "text/plain": [
       "[[3, 3, 3, 3], [2, 2, 2, 2], [1, 1, 1, 1]]"
      ]
     },
     "execution_count": 65,
     "metadata": {},
     "output_type": "execute_result"
    }
   ],
   "source": [
    "l = [\n",
    "    [ 1, 1, 1, 1 ],\n",
    "    [ 2, 2, 2, 2 ],\n",
    "    [ 3, 3, 3, 3 ]\n",
    "]\n",
    "# 随机打乱行\n",
    "np.random.shuffle(l)\n",
    "l"
   ]
  },
  {
   "cell_type": "markdown",
   "id": "77819bbd-f67a-47a2-882f-611ac3e21e0d",
   "metadata": {},
   "source": [
    "7 permutation(x)\n",
    "将x进行随机排列"
   ]
  },
  {
   "cell_type": "code",
   "execution_count": 66,
   "id": "ee5541d4-6dc1-421e-8226-d1ac5bb21a00",
   "metadata": {},
   "outputs": [
    {
     "data": {
      "text/plain": [
       "array([5, 6, 7, 4, 8, 1, 9, 2, 3, 0], dtype=int32)"
      ]
     },
     "execution_count": 66,
     "metadata": {},
     "output_type": "execute_result"
    }
   ],
   "source": [
    "np.random.permutation(10)"
   ]
  },
  {
   "cell_type": "code",
   "execution_count": 69,
   "id": "dca56b00-234d-48ac-b890-6af5acdd1288",
   "metadata": {},
   "outputs": [
    {
     "data": {
      "text/plain": [
       "array([[0, 1, 2],\n",
       "       [3, 4, 5],\n",
       "       [6, 7, 8]])"
      ]
     },
     "execution_count": 69,
     "metadata": {},
     "output_type": "execute_result"
    }
   ],
   "source": [
    "l = np.arange(9).reshape( (3,3) )\n",
    "l"
   ]
  },
  {
   "cell_type": "code",
   "execution_count": 70,
   "id": "6c0e92b3-f672-4ed5-8373-432981c69142",
   "metadata": {},
   "outputs": [
    {
     "data": {
      "text/plain": [
       "array([[6, 7, 8],\n",
       "       [3, 4, 5],\n",
       "       [0, 1, 2]])"
      ]
     },
     "execution_count": 70,
     "metadata": {},
     "output_type": "execute_result"
    }
   ],
   "source": [
    "np.random.permutation( l )"
   ]
  },
  {
   "cell_type": "code",
   "execution_count": 71,
   "id": "ff6b3d52-49f8-4c70-bbce-8fc1e0ad00a1",
   "metadata": {},
   "outputs": [
    {
     "data": {
      "text/plain": [
       "array([[0, 1, 2],\n",
       "       [3, 4, 5],\n",
       "       [6, 7, 8]])"
      ]
     },
     "execution_count": 71,
     "metadata": {},
     "output_type": "execute_result"
    }
   ],
   "source": [
    "# 该函数会返回一个打乱的数组，不同于shuffle是打乱本身的数组\n",
    "l"
   ]
  },
  {
   "cell_type": "markdown",
   "id": "5d3c014d-fb0a-422b-bb2a-e240374be1b8",
   "metadata": {},
   "source": [
    "8 normal( [loc, scale, size] )\n",
    "根据平均值loc和方差scale生成高斯分布的数字"
   ]
  },
  {
   "cell_type": "code",
   "execution_count": 72,
   "id": "645540f5-2fdb-4e3a-94ec-cf7408b8e4b1",
   "metadata": {},
   "outputs": [
    {
     "data": {
      "text/plain": [
       "array([  5.69534314,   7.36420302, -17.50816505,  15.06375318,\n",
       "        -0.67932238,   6.1004571 ,   5.27013988, -10.17608559,\n",
       "        12.59436829,  -0.37953426])"
      ]
     },
     "execution_count": 72,
     "metadata": {},
     "output_type": "execute_result"
    }
   ],
   "source": [
    "np.random.normal(1,10,10)"
   ]
  },
  {
   "cell_type": "code",
   "execution_count": 73,
   "id": "aa03f20d-50c0-45b2-b74c-57b7f9a9305c",
   "metadata": {},
   "outputs": [
    {
     "data": {
      "text/plain": [
       "array([[ 66.04299113,   5.23292326, 165.80307244],\n",
       "       [ -4.65942325, 132.36560676,  51.32695446],\n",
       "       [-54.14191749,  43.76385552, -71.26713845]])"
      ]
     },
     "execution_count": 73,
     "metadata": {},
     "output_type": "execute_result"
    }
   ],
   "source": [
    "np.random.normal(1,100,(3,3))"
   ]
  },
  {
   "cell_type": "markdown",
   "id": "a9af2f26-9c37-46a5-a47e-17956ab9bf87",
   "metadata": {},
   "source": [
    "9 uniform( [low, high, size] )\n",
    "在[low,high)之间生成均匀分布的数字"
   ]
  },
  {
   "cell_type": "code",
   "execution_count": 74,
   "id": "2eea948e-fb92-4e1c-97bb-4fb816a678b5",
   "metadata": {},
   "outputs": [
    {
     "data": {
      "text/plain": [
       "array([4.4470818 , 7.33697676, 8.45805318, 6.23391206, 4.48243537,\n",
       "       4.56832367, 2.35352783, 1.79517381, 8.20018579, 8.80840212])"
      ]
     },
     "execution_count": 74,
     "metadata": {},
     "output_type": "execute_result"
    }
   ],
   "source": [
    "np.random.uniform( 1, 10, 10 )"
   ]
  },
  {
   "cell_type": "code",
   "execution_count": 75,
   "id": "a1bb2548-fedb-4f0c-8def-d6ecf20df736",
   "metadata": {},
   "outputs": [
    {
     "data": {
      "text/plain": [
       "array([[8.97889452, 7.86251152, 2.94288491],\n",
       "       [6.42805317, 2.59195944, 2.41837233],\n",
       "       [4.8709058 , 2.22199194, 2.8383966 ]])"
      ]
     },
     "execution_count": 75,
     "metadata": {},
     "output_type": "execute_result"
    }
   ],
   "source": [
    "np.random.uniform( 1, 10, (3,3) )"
   ]
  },
  {
   "cell_type": "markdown",
   "id": "2970a07e-d43f-425e-a7e8-ddcc5aca4fa2",
   "metadata": {},
   "source": [
    "Numpy的数学统计函数"
   ]
  },
  {
   "cell_type": "code",
   "execution_count": 76,
   "id": "42e62c51-5e47-4836-8940-6436c44ece8b",
   "metadata": {},
   "outputs": [
    {
     "data": {
      "text/plain": [
       "array([[ 0,  1,  2,  3],\n",
       "       [ 4,  5,  6,  7],\n",
       "       [ 8,  9, 10, 11]])"
      ]
     },
     "execution_count": 76,
     "metadata": {},
     "output_type": "execute_result"
    }
   ],
   "source": [
    "import numpy as np\n",
    "\n",
    "arr = np.arange(12).reshape((3,4))\n",
    "arr"
   ]
  },
  {
   "cell_type": "code",
   "execution_count": 77,
   "id": "c23a764f-92af-48f6-a79c-32891d620bda",
   "metadata": {},
   "outputs": [
    {
     "data": {
      "text/plain": [
       "np.int64(66)"
      ]
     },
     "execution_count": 77,
     "metadata": {},
     "output_type": "execute_result"
    }
   ],
   "source": [
    "# 不指定axis，默认将二维数组当作一维数组进行计算\n",
    "np.sum(arr)"
   ]
  },
  {
   "cell_type": "code",
   "execution_count": 78,
   "id": "d8b65168-b893-4a94-a3b8-85f632a57495",
   "metadata": {},
   "outputs": [
    {
     "data": {
      "text/plain": [
       "np.int64(0)"
      ]
     },
     "execution_count": 78,
     "metadata": {},
     "output_type": "execute_result"
    }
   ],
   "source": [
    "np.prod(arr)"
   ]
  },
  {
   "cell_type": "code",
   "execution_count": 79,
   "id": "6f900d20-7d8e-4569-9086-ff6d7f0214fc",
   "metadata": {},
   "outputs": [
    {
     "data": {
      "text/plain": [
       "array([ 0,  1,  3,  6, 10, 15, 21, 28, 36, 45, 55, 66])"
      ]
     },
     "execution_count": 79,
     "metadata": {},
     "output_type": "execute_result"
    }
   ],
   "source": [
    "# 求前n的累加和\n",
    "np.cumsum(arr)"
   ]
  },
  {
   "cell_type": "code",
   "execution_count": 80,
   "id": "d9114f6b-9f62-4fcb-bed1-ced77a6d5c60",
   "metadata": {},
   "outputs": [
    {
     "data": {
      "text/plain": [
       "array([0, 0, 0, 0, 0, 0, 0, 0, 0, 0, 0, 0])"
      ]
     },
     "execution_count": 80,
     "metadata": {},
     "output_type": "execute_result"
    }
   ],
   "source": [
    "np.cumprod(arr)"
   ]
  },
  {
   "cell_type": "code",
   "execution_count": 81,
   "id": "046cb023-4303-456a-8625-8cc1d659f229",
   "metadata": {},
   "outputs": [
    {
     "data": {
      "text/plain": [
       "np.int64(0)"
      ]
     },
     "execution_count": 81,
     "metadata": {},
     "output_type": "execute_result"
    }
   ],
   "source": [
    "np.min(arr)"
   ]
  },
  {
   "cell_type": "code",
   "execution_count": 82,
   "id": "d1e1e947-a282-4b4e-8eff-ee6a47ec4bfc",
   "metadata": {},
   "outputs": [
    {
     "data": {
      "text/plain": [
       "np.int64(11)"
      ]
     },
     "execution_count": 82,
     "metadata": {},
     "output_type": "execute_result"
    }
   ],
   "source": [
    "np.max(arr)"
   ]
  },
  {
   "cell_type": "code",
   "execution_count": 84,
   "id": "541aaf42-c7df-4304-9930-c28ac6a94ad3",
   "metadata": {},
   "outputs": [
    {
     "data": {
      "text/plain": [
       "array([2.75, 5.5 , 8.25])"
      ]
     },
     "execution_count": 84,
     "metadata": {},
     "output_type": "execute_result"
    }
   ],
   "source": [
    "# 获取数组第25%，50%， 75% 的数\n",
    "np.percentile(arr,[25,50,75])"
   ]
  },
  {
   "cell_type": "code",
   "execution_count": 85,
   "id": "5cfacec2-d8d8-43a9-beb1-5010f93e0581",
   "metadata": {},
   "outputs": [
    {
     "data": {
      "text/plain": [
       "array([2.75, 5.5 , 8.25])"
      ]
     },
     "execution_count": 85,
     "metadata": {},
     "output_type": "execute_result"
    }
   ],
   "source": [
    "# 与percentile 不同的是使用小数\n",
    "np.quantile(arr, [0.25, 0.5, 0.75])"
   ]
  },
  {
   "cell_type": "code",
   "execution_count": 86,
   "id": "a3e58b64-d6ab-409c-8c21-3b1ae6c9573d",
   "metadata": {},
   "outputs": [
    {
     "data": {
      "text/plain": [
       "np.float64(5.5)"
      ]
     },
     "execution_count": 86,
     "metadata": {},
     "output_type": "execute_result"
    }
   ],
   "source": [
    "np.median(arr)"
   ]
  },
  {
   "cell_type": "code",
   "execution_count": 87,
   "id": "787e7497-3c73-4491-8bf5-b056c7be54bf",
   "metadata": {},
   "outputs": [
    {
     "data": {
      "text/plain": [
       "np.float64(5.5)"
      ]
     },
     "execution_count": 87,
     "metadata": {},
     "output_type": "execute_result"
    }
   ],
   "source": [
    "np.mean(arr)"
   ]
  },
  {
   "cell_type": "code",
   "execution_count": 88,
   "id": "db06a2ab-50e8-404b-9a26-1e4a962f1580",
   "metadata": {},
   "outputs": [
    {
     "data": {
      "text/plain": [
       "np.float64(3.452052529534663)"
      ]
     },
     "execution_count": 88,
     "metadata": {},
     "output_type": "execute_result"
    }
   ],
   "source": [
    "np.std(arr)"
   ]
  },
  {
   "cell_type": "code",
   "execution_count": 89,
   "id": "9d790ae9-beed-45a9-9680-366a3fec5391",
   "metadata": {},
   "outputs": [
    {
     "data": {
      "text/plain": [
       "np.float64(11.916666666666666)"
      ]
     },
     "execution_count": 89,
     "metadata": {},
     "output_type": "execute_result"
    }
   ],
   "source": [
    "np.var(arr)"
   ]
  },
  {
   "cell_type": "code",
   "execution_count": 91,
   "id": "286583ac-3b24-464c-aa44-cc38d96218a5",
   "metadata": {},
   "outputs": [
    {
     "data": {
      "text/plain": [
       "array([[0.07222205, 0.10544706, 0.64744317, 0.74614719],\n",
       "       [0.29378666, 0.01920958, 0.07128293, 0.60811273],\n",
       "       [0.14110248, 0.03073621, 0.96667746, 0.96337559]])"
      ]
     },
     "execution_count": 91,
     "metadata": {},
     "output_type": "execute_result"
    }
   ],
   "source": [
    "weights = np.random.rand(*arr.shape)"
   ]
  },
  {
   "cell_type": "code",
   "execution_count": 94,
   "id": "7d0106a6-895d-45c7-a86e-9374ccbce4fd",
   "metadata": {},
   "outputs": [
    {
     "data": {
      "text/plain": [
       "np.float64(6.701000771632676)"
      ]
     },
     "execution_count": 94,
     "metadata": {},
     "output_type": "execute_result"
    }
   ],
   "source": [
    "np.average(arr, weights=weights)"
   ]
  },
  {
   "cell_type": "code",
   "execution_count": 93,
   "id": "50268c57-9d4a-4907-88d5-c5daf30fb7f3",
   "metadata": {},
   "outputs": [
    {
     "name": "stdout",
     "output_type": "stream",
     "text": [
      "(3, 4)\n",
      "3 4\n"
     ]
    }
   ],
   "source": [
    "# 使用*进行解包\n",
    "print(arr.shape)\n",
    "print(*arr.shape)"
   ]
  },
  {
   "cell_type": "markdown",
   "id": "7c744b38-f12b-427d-92b3-e2917ee841b2",
   "metadata": {},
   "source": [
    "针对axis参数"
   ]
  },
  {
   "cell_type": "code",
   "execution_count": 95,
   "id": "17dac12f-346e-4b1b-8b8f-e5a976541603",
   "metadata": {},
   "outputs": [
    {
     "data": {
      "text/plain": [
       "array([[ 0,  1,  2,  3],\n",
       "       [ 4,  5,  6,  7],\n",
       "       [ 8,  9, 10, 11]])"
      ]
     },
     "execution_count": 95,
     "metadata": {},
     "output_type": "execute_result"
    }
   ],
   "source": [
    "arr"
   ]
  },
  {
   "cell_type": "code",
   "execution_count": 97,
   "id": "1667fb52-17b6-465b-9b19-53b4d12a136c",
   "metadata": {},
   "outputs": [
    {
     "data": {
      "text/plain": [
       "\u001B[1;31mDocstring:\u001B[0m\n",
       "a.sum(axis=None, dtype=None, out=None, keepdims=False, initial=0, where=True)\n",
       "\n",
       "Return the sum of the array elements over the given axis.\n",
       "\n",
       "Refer to `numpy.sum` for full documentation.\n",
       "\n",
       "See Also\n",
       "--------\n",
       "numpy.sum : equivalent function\n",
       "\u001B[1;31mType:\u001B[0m      builtin_function_or_method"
      ]
     },
     "metadata": {},
     "output_type": "display_data"
    }
   ],
   "source": [
    "arr.sum?"
   ]
  },
  {
   "cell_type": "code",
   "execution_count": 98,
   "id": "c92899b8-5c50-4ccd-9081-c1e8af6eaefb",
   "metadata": {},
   "outputs": [
    {
     "data": {
      "text/plain": [
       "array([12, 15, 18, 21])"
      ]
     },
     "execution_count": 98,
     "metadata": {},
     "output_type": "execute_result"
    }
   ],
   "source": [
    "# 即指定x，获取列的求和, 如果忘了，用一个行列不同的数组，根据结果判断一下就行\n",
    "# 也可以理解为一把梳子，从将所有行，向下刷成一行\n",
    "arr.sum(axis=0)"
   ]
  },
  {
   "cell_type": "code",
   "execution_count": 99,
   "id": "99528302-7274-47e5-96f5-1700ddf21457",
   "metadata": {},
   "outputs": [
    {
     "data": {
      "text/plain": [
       "array([ 6, 22, 38])"
      ]
     },
     "execution_count": 99,
     "metadata": {},
     "output_type": "execute_result"
    }
   ],
   "source": [
    "arr.sum(axis=1)"
   ]
  },
  {
   "cell_type": "code",
   "execution_count": 100,
   "id": "dda4edf8-bab8-4180-b3cb-b5a6cf2d0dcd",
   "metadata": {},
   "outputs": [
    {
     "data": {
      "text/plain": [
       "array([[ 0,  1,  2,  3],\n",
       "       [ 4,  6,  8, 10],\n",
       "       [12, 15, 18, 21]])"
      ]
     },
     "execution_count": 100,
     "metadata": {},
     "output_type": "execute_result"
    }
   ],
   "source": [
    "arr.cumsum(axis=0)"
   ]
  },
  {
   "cell_type": "code",
   "execution_count": 101,
   "id": "2a44b313-c502-4ed9-ad14-5c0909ebab72",
   "metadata": {},
   "outputs": [
    {
     "data": {
      "text/plain": [
       "array([[ 0,  1,  3,  6],\n",
       "       [ 4,  9, 15, 22],\n",
       "       [ 8, 17, 27, 38]])"
      ]
     },
     "execution_count": 101,
     "metadata": {},
     "output_type": "execute_result"
    }
   ],
   "source": [
    "arr.cumsum(axis=1)"
   ]
  },
  {
   "cell_type": "markdown",
   "id": "6f63a8e4-7e9a-485c-b537-e2b824158007",
   "metadata": {},
   "source": [
    "案例：机器学习中将数据进行标准化"
   ]
  },
  {
   "cell_type": "code",
   "execution_count": 116,
   "id": "f746a523-f9c0-4d08-a04d-3320916f8645",
   "metadata": {},
   "outputs": [
    {
     "name": "stdout",
     "output_type": "stream",
     "text": [
      "[[ 0  1  2  3]\n",
      " [ 4  5  6  7]\n",
      " [ 8  9 10 11]]\n"
     ]
    },
    {
     "data": {
      "text/plain": [
       "array([[-1,  0,  1,  2],\n",
       "       [ 3,  4,  5,  6],\n",
       "       [ 7,  8,  9, 10]])"
      ]
     },
     "execution_count": 116,
     "metadata": {},
     "output_type": "execute_result"
    }
   ],
   "source": [
    "# numpy的广播 arr1-arr2,两个数组的列数相同，arr1的每行的对应列都减去arr2\n",
    "import numpy as np\n",
    "arr1 = np.arange(12).reshape((3,4))\n",
    "print(arr1)\n",
    "arr2 = [1,1,1,1]\n",
    "arr1 - arr2"
   ]
  },
  {
   "cell_type": "code",
   "execution_count": 103,
   "id": "bd90e086-f743-40d4-81fe-df142e7868d7",
   "metadata": {},
   "outputs": [
    {
     "data": {
      "text/plain": [
       "array([[ 0,  1,  2,  3],\n",
       "       [ 4,  5,  6,  7],\n",
       "       [ 8,  9, 10, 11]])"
      ]
     },
     "execution_count": 103,
     "metadata": {},
     "output_type": "execute_result"
    }
   ],
   "source": [
    "import numpy as np\n",
    "\n",
    "arr = np.arange(12).reshape( (3,4) )\n",
    "arr\n",
    "# 对于二维数组的理解：一行是一个实体，每个列是该实体的属性\n",
    "# 数据标准化：\n",
    "#     1、对于机器学习和神经网络来说，不同列的量纲应该相同，训练收敛的更快\n",
    "#     2、商品的价格和销售的数字相差太大,不具备可比性，一般将其进行标准化\n",
    "#     3、不同列代表不同的特征，所以axis=0\n",
    "#     4、标准化一般使用 A = ( A-mean(A,axis=0) ) /  std(A,axis=0) 进行"
   ]
  },
  {
   "cell_type": "code",
   "execution_count": 109,
   "id": "e9481974-4321-42d6-805d-365d667c6be5",
   "metadata": {},
   "outputs": [
    {
     "name": "stdout",
     "output_type": "stream",
     "text": [
      "[4. 5. 6. 7.]\n",
      "[4. 5. 6. 7.]\n"
     ]
    }
   ],
   "source": [
    "# 计算每列的均值\n",
    "mean = arr.mean(axis=0)\n",
    "print(mean)\n",
    "mean = np.mean(arr,axis=0)\n",
    "print(mean)"
   ]
  },
  {
   "cell_type": "code",
   "execution_count": 111,
   "id": "79c31174-9b24-45c5-ba40-04903483724f",
   "metadata": {},
   "outputs": [
    {
     "data": {
      "text/plain": [
       "array([3.26598632, 3.26598632, 3.26598632, 3.26598632])"
      ]
     },
     "execution_count": 111,
     "metadata": {},
     "output_type": "execute_result"
    }
   ],
   "source": [
    "# 计算每列的标准差\n",
    "std = arr.std(axis=0)\n",
    "std"
   ]
  },
  {
   "cell_type": "code",
   "execution_count": 120,
   "id": "e8961ff8-fbf4-431f-970e-130afe0cc398",
   "metadata": {},
   "outputs": [
    {
     "data": {
      "text/plain": [
       "array([[-1.22474487, -1.22474487, -1.22474487, -1.22474487],\n",
       "       [ 0.        ,  0.        ,  0.        ,  0.        ],\n",
       "       [ 1.22474487,  1.22474487,  1.22474487,  1.22474487]])"
      ]
     },
     "execution_count": 120,
     "metadata": {},
     "output_type": "execute_result"
    }
   ],
   "source": [
    "ret = ( arr - mean ) / std\n",
    "ret\n",
    "# 有0是因为就3列，且中间列的元素是平均数"
   ]
  },
  {
   "cell_type": "code",
   "execution_count": 122,
   "id": "7860bc28-5979-48c1-a54b-0243c4bbb2ac",
   "metadata": {},
   "outputs": [
    {
     "data": {
      "text/plain": [
       "array([[66, 12, 58, 76],\n",
       "       [31, 41, 92, 91],\n",
       "       [10, 20, 85, 35]], dtype=int32)"
      ]
     },
     "execution_count": 122,
     "metadata": {},
     "output_type": "execute_result"
    }
   ],
   "source": [
    "# 使用随机数的案例\n",
    "arr = np.random.randint(1, 100, size=(3,4) )\n",
    "arr"
   ]
  },
  {
   "cell_type": "code",
   "execution_count": 124,
   "id": "0fced277-2728-4687-9108-910a082314fe",
   "metadata": {},
   "outputs": [
    {
     "data": {
      "text/plain": [
       "array([[ 1.31319831, -1.00850764, -1.38708029,  0.36616087],\n",
       "       [-0.20203051,  1.36284817,  0.93229987,  0.99990083],\n",
       "       [-1.1111678 , -0.35434052,  0.45478042, -1.36606169]])"
      ]
     },
     "execution_count": 124,
     "metadata": {},
     "output_type": "execute_result"
    }
   ],
   "source": [
    "ret = ( arr - arr.mean(axis=0) ) / arr.std(axis=0)\n",
    "ret"
   ]
  },
  {
   "cell_type": "markdown",
   "id": "d08a4a23-0809-43f7-873c-d29725689467",
   "metadata": {},
   "source": [
    "数据合并"
   ]
  },
  {
   "cell_type": "code",
   "execution_count": 2,
   "id": "dcd8a323-93ec-4e6a-b081-3b07a91b2bb4",
   "metadata": {},
   "outputs": [
    {
     "data": {
      "text/plain": [
       "array([[ 0,  1,  2],\n",
       "       [ 3,  4,  5],\n",
       "       [49, 64, 71],\n",
       "       [19, 16, 89],\n",
       "       [38, 77, 75],\n",
       "       [45,  1, 88]])"
      ]
     },
     "execution_count": 2,
     "metadata": {},
     "output_type": "execute_result"
    }
   ],
   "source": [
    "import numpy as np\n",
    "\n",
    "# 列相同\n",
    "arr1 = np.arange(6).reshape(2,3)\n",
    "arr2 = np.random.randint(1,100,(4,3))\n",
    "np.concatenate([arr1,arr2])"
   ]
  },
  {
   "cell_type": "code",
   "execution_count": 3,
   "id": "54aa79b2-207c-4ddb-a42d-64605947b76b",
   "metadata": {},
   "outputs": [
    {
     "data": {
      "text/plain": [
       "array([[ 0,  1,  2],\n",
       "       [ 3,  4,  5],\n",
       "       [49, 64, 71],\n",
       "       [19, 16, 89],\n",
       "       [38, 77, 75],\n",
       "       [45,  1, 88]])"
      ]
     },
     "execution_count": 3,
     "metadata": {},
     "output_type": "execute_result"
    }
   ],
   "source": [
    "np.vstack([arr1,arr2])"
   ]
  },
  {
   "cell_type": "code",
   "execution_count": 8,
   "id": "9bfbbf78-f76a-4bb7-aaed-e9b762e2c7da",
   "metadata": {},
   "outputs": [
    {
     "data": {
      "text/plain": [
       "array([[ 3, 12],\n",
       "       [13, 10],\n",
       "       [14,  9]], dtype=int32)"
      ]
     },
     "execution_count": 8,
     "metadata": {},
     "output_type": "execute_result"
    }
   ],
   "source": [
    "# 行相同\n",
    "arr1 = np.arange(12).reshape(3,4)\n",
    "arr2 = np.random.randint(1,20,(3,2))"
   ]
  },
  {
   "cell_type": "code",
   "execution_count": 9,
   "id": "6b337171-cc93-46da-8c3b-92205045a824",
   "metadata": {},
   "outputs": [
    {
     "data": {
      "text/plain": [
       "array([[ 0,  1,  2,  3,  3, 12],\n",
       "       [ 4,  5,  6,  7, 13, 10],\n",
       "       [ 8,  9, 10, 11, 14,  9]])"
      ]
     },
     "execution_count": 9,
     "metadata": {},
     "output_type": "execute_result"
    }
   ],
   "source": [
    "np.concat([arr1,arr2],axis=1)"
   ]
  },
  {
   "cell_type": "code",
   "execution_count": 11,
   "id": "0522be98-6b15-4864-8464-623b42d7488d",
   "metadata": {},
   "outputs": [
    {
     "data": {
      "text/plain": [
       "array([[ 0,  1,  2,  3,  3, 12],\n",
       "       [ 4,  5,  6,  7, 13, 10],\n",
       "       [ 8,  9, 10, 11, 14,  9]])"
      ]
     },
     "execution_count": 11,
     "metadata": {},
     "output_type": "execute_result"
    }
   ],
   "source": [
    "np.hstack([arr1,arr2])"
   ]
  },
  {
   "cell_type": "code",
   "execution_count": null,
   "id": "5f024ea8-91d1-408d-abe8-0b733a29351e",
   "metadata": {},
   "outputs": [],
   "source": []
  }
 ],
 "metadata": {
  "kernelspec": {
   "display_name": "Python 3 (ipykernel)",
   "language": "python",
   "name": "python3"
  },
  "language_info": {
   "codemirror_mode": {
    "name": "ipython",
    "version": 3
   },
   "file_extension": ".py",
   "mimetype": "text/x-python",
   "name": "python",
   "nbconvert_exporter": "python",
   "pygments_lexer": "ipython3",
   "version": "3.12.7"
  }
 },
 "nbformat": 4,
 "nbformat_minor": 5
}
