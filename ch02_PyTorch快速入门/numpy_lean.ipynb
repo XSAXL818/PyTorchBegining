{
 "cells": [
  {
   "cell_type": "code",
   "id": "initial_id",
   "metadata": {
    "collapsed": true,
    "ExecuteTime": {
     "end_time": "2024-10-28T12:43:29.865970Z",
     "start_time": "2024-10-28T12:43:29.862243Z"
    }
   },
   "source": [
    "from webbrowser import open_new\n",
    "\n",
    "import numpy as np\n",
    "\n",
    "# numpy的性能优势对比\n",
    "# python原生实现\n",
    "def sum(n:int):\n",
    "    a = [i**2 for i in range(n)]\n",
    "    b = [i**2 for i in range(n)]\n",
    "    c = []\n",
    "    for i,j in zip(a,b):\n",
    "        c.append(i+j)\n",
    "    return c\n",
    "\n",
    "# numpy 实现\n",
    "def sum_np(n:int):\n",
    "    a = np.arange(n) ** 2\n",
    "    b = np.arange(n) ** 2\n",
    "    return a + b\n"
   ],
   "outputs": [],
   "execution_count": 3
  },
  {
   "metadata": {
    "ExecuteTime": {
     "end_time": "2024-10-28T12:46:51.559488Z",
     "start_time": "2024-10-28T12:46:40.908956Z"
    }
   },
   "cell_type": "code",
   "source": "%timeit sum(1000)",
   "id": "ed8b9acd3beff053",
   "outputs": [
    {
     "name": "stdout",
     "output_type": "stream",
     "text": [
      "131 μs ± 2.29 μs per loop (mean ± std. dev. of 7 runs, 10,000 loops each)\n"
     ]
    }
   ],
   "execution_count": 11
  },
  {
   "metadata": {
    "ExecuteTime": {
     "end_time": "2024-10-28T12:46:57.856211Z",
     "start_time": "2024-10-28T12:46:54.788808Z"
    }
   },
   "cell_type": "code",
   "source": "%timeit sum_np(1000)",
   "id": "31498c0242d71518",
   "outputs": [
    {
     "name": "stdout",
     "output_type": "stream",
     "text": [
      "3.79 μs ± 36.6 ns per loop (mean ± std. dev. of 7 runs, 100,000 loops each)\n"
     ]
    }
   ],
   "execution_count": 13
  },
  {
   "metadata": {
    "ExecuteTime": {
     "end_time": "2024-10-28T13:10:52.822112Z",
     "start_time": "2024-10-28T13:10:52.819088Z"
    }
   },
   "cell_type": "code",
   "source": [
    "# 通过python原生的list来创建\n",
    "l1 = [ 1, 2, 3, 4 ]\n",
    "l2 = [\n",
    "    [ 2, 3, 4, 5 ],\n",
    "    [ 3, 4, 5, 6]\n",
    "]\n",
    "\n",
    "arr1 = np.array(l1)\n",
    "arr2 = np.array(l2)\n"
   ],
   "id": "fcb1b6a22fa0ec7e",
   "outputs": [],
   "execution_count": 19
  },
  {
   "metadata": {
    "ExecuteTime": {
     "end_time": "2024-10-28T13:10:54.969432Z",
     "start_time": "2024-10-28T13:10:54.966471Z"
    }
   },
   "cell_type": "code",
   "source": "arr1",
   "id": "81f0e8018ee6b8a1",
   "outputs": [
    {
     "data": {
      "text/plain": [
       "array([1, 2, 3, 4])"
      ]
     },
     "execution_count": 20,
     "metadata": {},
     "output_type": "execute_result"
    }
   ],
   "execution_count": 20
  },
  {
   "metadata": {
    "ExecuteTime": {
     "end_time": "2024-10-28T13:10:56.418373Z",
     "start_time": "2024-10-28T13:10:56.415411Z"
    }
   },
   "cell_type": "code",
   "source": "arr2",
   "id": "5fdf6f7d387d457c",
   "outputs": [
    {
     "data": {
      "text/plain": [
       "array([[2, 3, 4, 5],\n",
       "       [3, 4, 5, 6]])"
      ]
     },
     "execution_count": 21,
     "metadata": {},
     "output_type": "execute_result"
    }
   ],
   "execution_count": 21
  },
  {
   "metadata": {},
   "cell_type": "markdown",
   "source": [
    "\n",
    "调用array的属性\n"
   ],
   "id": "439ee27b6cf0201a"
  },
  {
   "metadata": {
    "ExecuteTime": {
     "end_time": "2024-10-28T13:19:50.102635Z",
     "start_time": "2024-10-28T13:19:50.099636Z"
    }
   },
   "cell_type": "code",
   "source": [
    "# 调用array的属性\n",
    "arr1.shape"
   ],
   "id": "34695c19f31d01c4",
   "outputs": [
    {
     "data": {
      "text/plain": [
       "(4,)"
      ]
     },
     "execution_count": 32,
     "metadata": {},
     "output_type": "execute_result"
    }
   ],
   "execution_count": 32
  },
  {
   "metadata": {
    "ExecuteTime": {
     "end_time": "2024-10-28T13:12:44.769983Z",
     "start_time": "2024-10-28T13:12:44.766574Z"
    }
   },
   "cell_type": "code",
   "source": "arr2.shape",
   "id": "dcff83ff16413bf3",
   "outputs": [
    {
     "data": {
      "text/plain": [
       "(2, 4)"
      ]
     },
     "execution_count": 25,
     "metadata": {},
     "output_type": "execute_result"
    }
   ],
   "execution_count": 25
  },
  {
   "metadata": {
    "ExecuteTime": {
     "end_time": "2024-10-28T13:13:44.568218Z",
     "start_time": "2024-10-28T13:13:44.565351Z"
    }
   },
   "cell_type": "code",
   "source": "arr1.ndim",
   "id": "cb64649883b3879d",
   "outputs": [
    {
     "data": {
      "text/plain": [
       "1"
      ]
     },
     "execution_count": 26,
     "metadata": {},
     "output_type": "execute_result"
    }
   ],
   "execution_count": 26
  },
  {
   "metadata": {
    "ExecuteTime": {
     "end_time": "2024-10-28T13:13:45.978749Z",
     "start_time": "2024-10-28T13:13:45.976219Z"
    }
   },
   "cell_type": "code",
   "source": "arr2.ndim",
   "id": "4f7794e26b91b092",
   "outputs": [
    {
     "data": {
      "text/plain": [
       "2"
      ]
     },
     "execution_count": 27,
     "metadata": {},
     "output_type": "execute_result"
    }
   ],
   "execution_count": 27
  },
  {
   "metadata": {
    "ExecuteTime": {
     "end_time": "2024-10-28T13:13:47.269849Z",
     "start_time": "2024-10-28T13:13:47.266759Z"
    }
   },
   "cell_type": "code",
   "source": "arr1.size",
   "id": "884ddcab0b35dcba",
   "outputs": [
    {
     "data": {
      "text/plain": [
       "4"
      ]
     },
     "execution_count": 28,
     "metadata": {},
     "output_type": "execute_result"
    }
   ],
   "execution_count": 28
  },
  {
   "metadata": {
    "ExecuteTime": {
     "end_time": "2024-10-28T13:13:48.578016Z",
     "start_time": "2024-10-28T13:13:48.575403Z"
    }
   },
   "cell_type": "code",
   "source": "arr2.size",
   "id": "fd8a3850aec371ea",
   "outputs": [
    {
     "data": {
      "text/plain": [
       "8"
      ]
     },
     "execution_count": 29,
     "metadata": {},
     "output_type": "execute_result"
    }
   ],
   "execution_count": 29
  },
  {
   "metadata": {
    "ExecuteTime": {
     "end_time": "2024-10-28T13:13:49.771219Z",
     "start_time": "2024-10-28T13:13:49.767709Z"
    }
   },
   "cell_type": "code",
   "source": "arr1.dtype",
   "id": "18e1de7cda1d323a",
   "outputs": [
    {
     "data": {
      "text/plain": [
       "dtype('int64')"
      ]
     },
     "execution_count": 30,
     "metadata": {},
     "output_type": "execute_result"
    }
   ],
   "execution_count": 30
  },
  {
   "metadata": {
    "ExecuteTime": {
     "end_time": "2024-10-28T13:13:50.994554Z",
     "start_time": "2024-10-28T13:13:50.990767Z"
    }
   },
   "cell_type": "code",
   "source": "arr2.dtype",
   "id": "6ff4b7aba7d6e40d",
   "outputs": [
    {
     "data": {
      "text/plain": [
       "dtype('int64')"
      ]
     },
     "execution_count": 31,
     "metadata": {},
     "output_type": "execute_result"
    }
   ],
   "execution_count": 31
  },
  {
   "metadata": {
    "ExecuteTime": {
     "end_time": "2024-10-28T13:22:06.328820Z",
     "start_time": "2024-10-28T13:22:06.324746Z"
    }
   },
   "cell_type": "code",
   "source": [
    "# 查看arange函数\n",
    "# 推荐使用第一种，第二种占空间...\n",
    "np.arange?\n",
    "help(np.arange)\n",
    "# arange([start,] stop[, step,], dtype=None, *, device=None, like=None)"
   ],
   "id": "486d3df14ca47eda",
   "outputs": [
    {
     "name": "stdout",
     "output_type": "stream",
     "text": [
      "Help on built-in function arange in module numpy:\n",
      "\n",
      "arange(...)\n",
      "    arange([start,] stop[, step,], dtype=None, *, device=None, like=None)\n",
      "\n",
      "    Return evenly spaced values within a given interval.\n",
      "\n",
      "    ``arange`` can be called with a varying number of positional arguments:\n",
      "\n",
      "    * ``arange(stop)``: Values are generated within the half-open interval\n",
      "      ``[0, stop)`` (in other words, the interval including `start` but\n",
      "      excluding `stop`).\n",
      "    * ``arange(start, stop)``: Values are generated within the half-open\n",
      "      interval ``[start, stop)``.\n",
      "    * ``arange(start, stop, step)`` Values are generated within the half-open\n",
      "      interval ``[start, stop)``, with spacing between values given by\n",
      "      ``step``.\n",
      "\n",
      "    For integer arguments the function is roughly equivalent to the Python\n",
      "    built-in :py:class:`range`, but returns an ndarray rather than a ``range``\n",
      "    instance.\n",
      "\n",
      "    When using a non-integer step, such as 0.1, it is often better to use\n",
      "    `numpy.linspace`.\n",
      "\n",
      "    See the Warning sections below for more information.\n",
      "\n",
      "    Parameters\n",
      "    ----------\n",
      "    start : integer or real, optional\n",
      "        Start of interval.  The interval includes this value.  The default\n",
      "        start value is 0.\n",
      "    stop : integer or real\n",
      "        End of interval.  The interval does not include this value, except\n",
      "        in some cases where `step` is not an integer and floating point\n",
      "        round-off affects the length of `out`.\n",
      "    step : integer or real, optional\n",
      "        Spacing between values.  For any output `out`, this is the distance\n",
      "        between two adjacent values, ``out[i+1] - out[i]``.  The default\n",
      "        step size is 1.  If `step` is specified as a position argument,\n",
      "        `start` must also be given.\n",
      "    dtype : dtype, optional\n",
      "        The type of the output array.  If `dtype` is not given, infer the data\n",
      "        type from the other input arguments.\n",
      "    device : str, optional\n",
      "        The device on which to place the created array. Default: None.\n",
      "        For Array-API interoperability only, so must be ``\"cpu\"`` if passed.\n",
      "\n",
      "        .. versionadded:: 2.0.0\n",
      "    like : array_like, optional\n",
      "        Reference object to allow the creation of arrays which are not\n",
      "        NumPy arrays. If an array-like passed in as ``like`` supports\n",
      "        the ``__array_function__`` protocol, the result will be defined\n",
      "        by it. In this case, it ensures the creation of an array object\n",
      "        compatible with that passed in via this argument.\n",
      "\n",
      "        .. versionadded:: 1.20.0\n",
      "\n",
      "    Returns\n",
      "    -------\n",
      "    arange : ndarray\n",
      "        Array of evenly spaced values.\n",
      "\n",
      "        For floating point arguments, the length of the result is\n",
      "        ``ceil((stop - start)/step)``.  Because of floating point overflow,\n",
      "        this rule may result in the last element of `out` being greater\n",
      "        than `stop`.\n",
      "\n",
      "    Warnings\n",
      "    --------\n",
      "    The length of the output might not be numerically stable.\n",
      "\n",
      "    Another stability issue is due to the internal implementation of\n",
      "    `numpy.arange`.\n",
      "    The actual step value used to populate the array is\n",
      "    ``dtype(start + step) - dtype(start)`` and not `step`. Precision loss\n",
      "    can occur here, due to casting or due to using floating points when\n",
      "    `start` is much larger than `step`. This can lead to unexpected\n",
      "    behaviour. For example::\n",
      "\n",
      "      >>> np.arange(0, 5, 0.5, dtype=int)\n",
      "      array([0, 0, 0, 0, 0, 0, 0, 0, 0, 0])\n",
      "      >>> np.arange(-3, 3, 0.5, dtype=int)\n",
      "      array([-3, -2, -1,  0,  1,  2,  3,  4,  5,  6,  7,  8])\n",
      "\n",
      "    In such cases, the use of `numpy.linspace` should be preferred.\n",
      "\n",
      "    The built-in :py:class:`range` generates :std:doc:`Python built-in integers\n",
      "    that have arbitrary size <python:c-api/long>`, while `numpy.arange`\n",
      "    produces `numpy.int32` or `numpy.int64` numbers. This may result in\n",
      "    incorrect results for large integer values::\n",
      "\n",
      "      >>> power = 40\n",
      "      >>> modulo = 10000\n",
      "      >>> x1 = [(n ** power) % modulo for n in range(8)]\n",
      "      >>> x2 = [(n ** power) % modulo for n in np.arange(8)]\n",
      "      >>> print(x1)\n",
      "      [0, 1, 7776, 8801, 6176, 625, 6576, 4001]  # correct\n",
      "      >>> print(x2)\n",
      "      [0, 1, 7776, 7185, 0, 5969, 4816, 3361]  # incorrect\n",
      "\n",
      "    See Also\n",
      "    --------\n",
      "    numpy.linspace : Evenly spaced numbers with careful handling of endpoints.\n",
      "    numpy.ogrid: Arrays of evenly spaced numbers in N-dimensions.\n",
      "    numpy.mgrid: Grid-shaped arrays of evenly spaced numbers in N-dimensions.\n",
      "    :ref:`how-to-partition`\n",
      "\n",
      "    Examples\n",
      "    --------\n",
      "    >>> np.arange(3)\n",
      "    array([0, 1, 2])\n",
      "    >>> np.arange(3.0)\n",
      "    array([ 0.,  1.,  2.])\n",
      "    >>> np.arange(3,7)\n",
      "    array([3, 4, 5, 6])\n",
      "    >>> np.arange(3,7,2)\n",
      "    array([3, 5])\n",
      "\n"
     ]
    }
   ],
   "execution_count": 36
  },
  {
   "metadata": {
    "ExecuteTime": {
     "end_time": "2024-10-28T13:29:29.941848Z",
     "start_time": "2024-10-28T13:29:29.938339Z"
    }
   },
   "cell_type": "code",
   "source": [
    "# 获取一维向量\n",
    "np.arange(10)"
   ],
   "id": "c1226c34c3f5ddb5",
   "outputs": [
    {
     "data": {
      "text/plain": [
       "array([0, 1, 2, 3, 4, 5, 6, 7, 8, 9])"
      ]
     },
     "execution_count": 37,
     "metadata": {},
     "output_type": "execute_result"
    }
   ],
   "execution_count": 37
  },
  {
   "metadata": {
    "ExecuteTime": {
     "end_time": "2024-10-28T13:29:43.412524Z",
     "start_time": "2024-10-28T13:29:43.408513Z"
    }
   },
   "cell_type": "code",
   "source": "np.arange(0,10,2)",
   "id": "30c87025a9b17596",
   "outputs": [
    {
     "data": {
      "text/plain": [
       "array([0, 2, 4, 6, 8])"
      ]
     },
     "execution_count": 38,
     "metadata": {},
     "output_type": "execute_result"
    }
   ],
   "execution_count": 38
  },
  {
   "metadata": {
    "ExecuteTime": {
     "end_time": "2024-10-28T13:30:38.743334Z",
     "start_time": "2024-10-28T13:30:38.714854Z"
    }
   },
   "cell_type": "code",
   "source": [
    "np.ones?\n",
    "# np.ones(shape, dtype=None, order='C', *, device=None, like=None)\n",
    "# shape: 提供一个数字n，返回n个1的一维向量。提供一个二元组(2,3),返回2行3列的1"
   ],
   "id": "54993ad78f010586",
   "outputs": [],
   "execution_count": 39
  },
  {
   "metadata": {
    "ExecuteTime": {
     "end_time": "2024-10-28T13:31:17.442125Z",
     "start_time": "2024-10-28T13:31:17.438925Z"
    }
   },
   "cell_type": "code",
   "source": "np.ones(10)",
   "id": "96950fab4df353a7",
   "outputs": [
    {
     "data": {
      "text/plain": [
       "array([1., 1., 1., 1., 1., 1., 1., 1., 1., 1.])"
      ]
     },
     "execution_count": 40,
     "metadata": {},
     "output_type": "execute_result"
    }
   ],
   "execution_count": 40
  },
  {
   "metadata": {
    "ExecuteTime": {
     "end_time": "2024-10-28T13:33:01.281979Z",
     "start_time": "2024-10-28T13:33:01.277527Z"
    }
   },
   "cell_type": "code",
   "source": "np.ones( (2,3) )",
   "id": "4bf2cca56d3d62d0",
   "outputs": [
    {
     "data": {
      "text/plain": [
       "array([[1., 1., 1.],\n",
       "       [1., 1., 1.]])"
      ]
     },
     "execution_count": 41,
     "metadata": {},
     "output_type": "execute_result"
    }
   ],
   "execution_count": 41
  },
  {
   "metadata": {
    "ExecuteTime": {
     "end_time": "2024-10-28T13:33:36.246897Z",
     "start_time": "2024-10-28T13:33:36.243198Z"
    }
   },
   "cell_type": "code",
   "source": [
    "np.ones_like?\n",
    "# np.ones_like(\n",
    "#     a,         这个是模板\n",
    "#     dtype=None,\n",
    "#     order='K',\n",
    "#     subok=True,\n",
    "#     shape=None,\n",
    "#     *,\n",
    "#     device=None,\n",
    "# )"
   ],
   "id": "63bbd4c28eecf232",
   "outputs": [],
   "execution_count": 42
  },
  {
   "metadata": {
    "ExecuteTime": {
     "end_time": "2024-10-28T13:34:56.616012Z",
     "start_time": "2024-10-28T13:34:56.613657Z"
    }
   },
   "cell_type": "code",
   "source": [
    "x1 = [1,3,4,5,6]\n",
    "x2 = [\n",
    "    [1, 2, 3, 4, 5],\n",
    "    [3, 4, 5, 6, 7]\n",
    "]"
   ],
   "id": "1ae6e6a5088b0a0e",
   "outputs": [],
   "execution_count": 43
  },
  {
   "metadata": {
    "ExecuteTime": {
     "end_time": "2024-10-28T13:35:30.414092Z",
     "start_time": "2024-10-28T13:35:30.410338Z"
    }
   },
   "cell_type": "code",
   "source": "np.ones_like(x1)",
   "id": "ef540b0f2f95f3e5",
   "outputs": [
    {
     "data": {
      "text/plain": [
       "array([1, 1, 1, 1, 1])"
      ]
     },
     "execution_count": 45,
     "metadata": {},
     "output_type": "execute_result"
    }
   ],
   "execution_count": 45
  },
  {
   "metadata": {
    "ExecuteTime": {
     "end_time": "2024-10-28T13:35:35.611365Z",
     "start_time": "2024-10-28T13:35:35.607652Z"
    }
   },
   "cell_type": "code",
   "source": "np.ones_like(x2)",
   "id": "9fb23893c79ec22e",
   "outputs": [
    {
     "data": {
      "text/plain": [
       "array([[1, 1, 1, 1, 1],\n",
       "       [1, 1, 1, 1, 1]])"
      ]
     },
     "execution_count": 46,
     "metadata": {},
     "output_type": "execute_result"
    }
   ],
   "execution_count": 46
  },
  {
   "metadata": {
    "ExecuteTime": {
     "end_time": "2024-10-28T13:39:12.839658Z",
     "start_time": "2024-10-28T13:39:12.835021Z"
    }
   },
   "cell_type": "code",
   "source": [
    "# 和ones/ones_like相同\n",
    "np.zeros_like?"
   ],
   "id": "517caabf7776fb92",
   "outputs": [],
   "execution_count": 47
  },
  {
   "metadata": {
    "ExecuteTime": {
     "end_time": "2024-10-28T13:40:47.990413Z",
     "start_time": "2024-10-28T13:40:47.986618Z"
    }
   },
   "cell_type": "code",
   "source": "np.zeros_like(x1)",
   "id": "9a58c1a033ced0ae",
   "outputs": [
    {
     "data": {
      "text/plain": [
       "array([0, 0, 0, 0, 0])"
      ]
     },
     "execution_count": 49,
     "metadata": {},
     "output_type": "execute_result"
    }
   ],
   "execution_count": 49
  },
  {
   "metadata": {
    "ExecuteTime": {
     "end_time": "2024-10-28T13:40:49.843534Z",
     "start_time": "2024-10-28T13:40:49.839780Z"
    }
   },
   "cell_type": "code",
   "source": "np.zeros_like(x2)",
   "id": "49776e21199fbc2f",
   "outputs": [
    {
     "data": {
      "text/plain": [
       "array([[0, 0, 0, 0, 0],\n",
       "       [0, 0, 0, 0, 0]])"
      ]
     },
     "execution_count": 50,
     "metadata": {},
     "output_type": "execute_result"
    }
   ],
   "execution_count": 50
  },
  {
   "metadata": {
    "ExecuteTime": {
     "end_time": "2024-10-28T13:41:50.138799Z",
     "start_time": "2024-10-28T13:41:50.136160Z"
    }
   },
   "cell_type": "code",
   "source": [
    "np.empty?\n",
    "# empty(shape, dtype=float, order='C', *, device=None, like=None)\n",
    "# 里面元素是随机的"
   ],
   "id": "c5f6f09cd8801b6d",
   "outputs": [],
   "execution_count": 51
  },
  {
   "metadata": {
    "ExecuteTime": {
     "end_time": "2024-10-28T13:42:43.543652Z",
     "start_time": "2024-10-28T13:42:43.539578Z"
    }
   },
   "cell_type": "code",
   "source": "np.empty(4)",
   "id": "ffe871d02c4772d4",
   "outputs": [
    {
     "data": {
      "text/plain": [
       "array([0.00000000e+000, 1.10746561e-311, 1.10746561e-311, 1.10746561e-311])"
      ]
     },
     "execution_count": 52,
     "metadata": {},
     "output_type": "execute_result"
    }
   ],
   "execution_count": 52
  },
  {
   "metadata": {
    "ExecuteTime": {
     "end_time": "2024-10-28T13:42:57.771684Z",
     "start_time": "2024-10-28T13:42:57.768518Z"
    }
   },
   "cell_type": "code",
   "source": "np.empty(4,dtype=int)",
   "id": "3e478e61659832cb",
   "outputs": [
    {
     "data": {
      "text/plain": [
       "array([            0, 2241535356272, 2241535357472, 2241535355232])"
      ]
     },
     "execution_count": 53,
     "metadata": {},
     "output_type": "execute_result"
    }
   ],
   "execution_count": 53
  },
  {
   "metadata": {
    "ExecuteTime": {
     "end_time": "2024-10-28T13:43:19.358712Z",
     "start_time": "2024-10-28T13:43:19.354733Z"
    }
   },
   "cell_type": "code",
   "source": "np.empty( (2,2) )",
   "id": "f138d77b079531c7",
   "outputs": [
    {
     "data": {
      "text/plain": [
       "array([[2.12199579e-314, 1.10555981e-311],\n",
       "       [8.55721699e-321, 6.95293141e-310]])"
      ]
     },
     "execution_count": 54,
     "metadata": {},
     "output_type": "execute_result"
    }
   ],
   "execution_count": 54
  },
  {
   "metadata": {
    "ExecuteTime": {
     "end_time": "2024-10-28T13:43:31.241305Z",
     "start_time": "2024-10-28T13:43:31.238497Z"
    }
   },
   "cell_type": "code",
   "source": [
    "np.empty_like?\n",
    "# empty_like(prototype, dtype=None, order='K', subok=True, shape=None, *,\n",
    "#           device=None)\n",
    "# prototype: 根据传入的对象，返回同类型但元素随机的array"
   ],
   "id": "252c0dcc6bfb8152",
   "outputs": [],
   "execution_count": 55
  },
  {
   "metadata": {
    "ExecuteTime": {
     "end_time": "2024-10-28T13:50:50.613455Z",
     "start_time": "2024-10-28T13:50:50.609695Z"
    }
   },
   "cell_type": "code",
   "source": "np.empty_like(x1)",
   "id": "e7ac37d168090e54",
   "outputs": [
    {
     "data": {
      "text/plain": [
       "array([25895968444448860, 23925768161198147, 32370111954616435,\n",
       "           2241535344640,           7077888])"
      ]
     },
     "execution_count": 56,
     "metadata": {},
     "output_type": "execute_result"
    }
   ],
   "execution_count": 56
  },
  {
   "metadata": {
    "ExecuteTime": {
     "end_time": "2024-10-28T13:51:31.034356Z",
     "start_time": "2024-10-28T13:51:31.030526Z"
    }
   },
   "cell_type": "code",
   "source": "np.empty_like(x2)",
   "id": "f3bc9f96e747fcd6",
   "outputs": [
    {
     "data": {
      "text/plain": [
       "array([[-1,  0,  0,  0,  0],\n",
       "       [ 0,  0,  0,  0,  0]])"
      ]
     },
     "execution_count": 57,
     "metadata": {},
     "output_type": "execute_result"
    }
   ],
   "execution_count": 57
  },
  {
   "metadata": {},
   "cell_type": "code",
   "outputs": [],
   "execution_count": null,
   "source": "",
   "id": "3ec661cf38c5c6e2"
  },
  {
   "metadata": {},
   "cell_type": "code",
   "outputs": [],
   "execution_count": null,
   "source": "",
   "id": "275d262daf35400f"
  },
  {
   "metadata": {},
   "cell_type": "code",
   "outputs": [],
   "execution_count": null,
   "source": "",
   "id": "21b58099deab7f41"
  },
  {
   "metadata": {},
   "cell_type": "code",
   "outputs": [],
   "execution_count": null,
   "source": "",
   "id": "d79c38ff179889c"
  },
  {
   "metadata": {},
   "cell_type": "code",
   "outputs": [],
   "execution_count": null,
   "source": "",
   "id": "2337501b32ce5680"
  },
  {
   "metadata": {},
   "cell_type": "code",
   "outputs": [],
   "execution_count": null,
   "source": "",
   "id": "67cae5c0295d579b"
  },
  {
   "metadata": {},
   "cell_type": "code",
   "outputs": [],
   "execution_count": null,
   "source": "",
   "id": "1e9566d2ddd06741"
  },
  {
   "metadata": {},
   "cell_type": "code",
   "outputs": [],
   "execution_count": null,
   "source": "",
   "id": "310277eb7affd33c"
  }
 ],
 "metadata": {
  "kernelspec": {
   "display_name": "Python 3",
   "language": "python",
   "name": "python3"
  },
  "language_info": {
   "codemirror_mode": {
    "name": "ipython",
    "version": 2
   },
   "file_extension": ".py",
   "mimetype": "text/x-python",
   "name": "python",
   "nbconvert_exporter": "python",
   "pygments_lexer": "ipython2",
   "version": "2.7.6"
  }
 },
 "nbformat": 4,
 "nbformat_minor": 5
}
